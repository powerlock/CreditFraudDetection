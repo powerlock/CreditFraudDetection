{
 "cells": [
  {
   "cell_type": "markdown",
   "metadata": {},
   "source": [
    "# DeepLearning method for credit card fraud detection.\n",
    "* In this notebook, I will explore CNN and LSTM method for the fraud detection."
   ]
  },
  {
   "cell_type": "code",
   "execution_count": 1,
   "metadata": {},
   "outputs": [
    {
     "name": "stderr",
     "output_type": "stream",
     "text": [
      "2022-10-08 14:26:48.498311: I tensorflow/core/platform/cpu_feature_guard.cc:193] This TensorFlow binary is optimized with oneAPI Deep Neural Network Library (oneDNN) to use the following CPU instructions in performance-critical operations:  AVX2 FMA\n",
      "To enable them in other operations, rebuild TensorFlow with the appropriate compiler flags.\n"
     ]
    }
   ],
   "source": [
    "import matplotlib.pyplot as plt\n",
    "import datetime\n",
    "import numpy as np\n",
    "import pandas as pd\n",
    "import tensorflow as tf\n",
    "from sklearn.preprocessing import StandardScaler, MinMaxScaler\n",
    "from sklearn.metrics import accuracy_score, precision_score, recall_score\n",
    "from sklearn.model_selection import train_test_split\n",
    "from tensorflow.keras import layers, losses\n",
    "from tensorflow.keras.models import Model"
   ]
  },
  {
   "cell_type": "code",
   "execution_count": 2,
   "metadata": {},
   "outputs": [
    {
     "name": "stderr",
     "output_type": "stream",
     "text": [
      "/Users/michael/opt/anaconda3/envs/anomaly/lib/python3.9/site-packages/mlflow/utils/autologging_utils/__init__.py:416: FutureWarning: Autologging support for keras >= 2.6.0 has been deprecated and will be removed in a future MLflow release. Use `mlflow.tensorflow.autolog()` instead.\n",
      "  return _autolog(*args, **kwargs)\n"
     ]
    }
   ],
   "source": [
    "# The following import and function call are the only additions to code required\n",
    "# to automatically log metrics and parameters to MLflow.\n",
    "import mlflow.keras\n",
    "\n",
    "mlflow.keras.autolog()"
   ]
  },
  {
   "cell_type": "code",
   "execution_count": 3,
   "metadata": {},
   "outputs": [],
   "source": [
    "# load file\n",
    "filepath = \"../Data/creditcard.csv\"\n",
    "df = pd.read_csv(filepath)"
   ]
  },
  {
   "cell_type": "code",
   "execution_count": 4,
   "metadata": {},
   "outputs": [],
   "source": [
    "# identify X features, and y class\n",
    "# Those data have been used froom creditCard notbook, EDA\n",
    "X = df.drop(['Class'], axis=1)\n",
    "y = df['Class']\n",
    "X_train, X_test, y_train, y_test = train_test_split(X,y, test_size=0.35, random_state = 43)"
   ]
  },
  {
   "cell_type": "code",
   "execution_count": 5,
   "metadata": {},
   "outputs": [],
   "source": [
    "# balanced class with sklearn compute class weight\n",
    "from sklearn.utils import compute_class_weight\n",
    "\n",
    "cw = compute_class_weight(class_weight =\"balanced\", classes =np.unique(y_train), y = y_train)\n",
    "classweight = dict(zip(np.unique(y_train), cw))"
   ]
  },
  {
   "cell_type": "code",
   "execution_count": 6,
   "metadata": {},
   "outputs": [],
   "source": [
    "# Normalize data, scale to [0,1]\n",
    "#train_data = StandardScaler().fit_transform(X_train)\n",
    "#test_data = StandardScaler().fit_transform(X_test)\n",
    "train_data = MinMaxScaler().fit_transform(X_train)\n",
    "test_data = MinMaxScaler().fit_transform(X_test)\n",
    "train_labels = y_train\n",
    "test_labels = y_test"
   ]
  },
  {
   "cell_type": "code",
   "execution_count": 7,
   "metadata": {},
   "outputs": [],
   "source": [
    "train_labels = train_labels.astype(bool)\n",
    "test_labels = test_labels.astype(bool)\n",
    "\n",
    "normal_train_data = train_data[train_labels]\n",
    "normal_test_data = test_data[test_labels]\n",
    "\n",
    "anomalous_train_data = train_data[~train_labels]\n",
    "anomalous_test_data = test_data[~test_labels]"
   ]
  },
  {
   "cell_type": "code",
   "execution_count": 8,
   "metadata": {},
   "outputs": [
    {
     "name": "stdout",
     "output_type": "stream",
     "text": [
      "(185124,)\n",
      "(185124, 30)\n",
      "(99683, 30)\n"
     ]
    }
   ],
   "source": [
    "print(train_labels.shape)\n",
    "print(train_data.shape)\n",
    "print(test_data.shape)"
   ]
  },
  {
   "cell_type": "code",
   "execution_count": 9,
   "metadata": {},
   "outputs": [
    {
     "name": "stderr",
     "output_type": "stream",
     "text": [
      "2022-10-08 14:26:55.747879: I tensorflow/core/platform/cpu_feature_guard.cc:193] This TensorFlow binary is optimized with oneAPI Deep Neural Network Library (oneDNN) to use the following CPU instructions in performance-critical operations:  AVX2 FMA\n",
      "To enable them in other operations, rebuild TensorFlow with the appropriate compiler flags.\n"
     ]
    }
   ],
   "source": [
    "model = tf.keras.models.Sequential([\n",
    "    tf.keras.layers.Reshape(([30,1,1]),input_shape=[30]),\n",
    "    layers.Conv2D(64,kernel_size=(3,3), padding='same', activation='relu'),\n",
    "    layers.Conv2D(32,kernel_size=(3,3), padding='same', activation='relu'),\n",
    "    #layers.Dropout(0.5),\n",
    "    layers.Dense(64, activation='relu'),\n",
    "    #layers.Dense(32, activation='relu'),\n",
    "    layers.Flatten(),\n",
    "    #layers.Dense(32, activation='relu'),\n",
    "    \n",
    "    layers.Dense(1, activation=\"sigmoid\"),\n",
    "    ])\n"
   ]
  },
  {
   "cell_type": "code",
   "execution_count": 10,
   "metadata": {},
   "outputs": [
    {
     "name": "stdout",
     "output_type": "stream",
     "text": [
      "Model: \"sequential\"\n",
      "_________________________________________________________________\n",
      " Layer (type)                Output Shape              Param #   \n",
      "=================================================================\n",
      " reshape (Reshape)           (None, 30, 1, 1)          0         \n",
      "                                                                 \n",
      " conv2d (Conv2D)             (None, 30, 1, 64)         640       \n",
      "                                                                 \n",
      " conv2d_1 (Conv2D)           (None, 30, 1, 32)         18464     \n",
      "                                                                 \n",
      " dense (Dense)               (None, 30, 1, 64)         2112      \n",
      "                                                                 \n",
      " flatten (Flatten)           (None, 1920)              0         \n",
      "                                                                 \n",
      " dense_1 (Dense)             (None, 1)                 1921      \n",
      "                                                                 \n",
      "=================================================================\n",
      "Total params: 23,137\n",
      "Trainable params: 23,137\n",
      "Non-trainable params: 0\n",
      "_________________________________________________________________\n"
     ]
    }
   ],
   "source": [
    "model.summary()"
   ]
  },
  {
   "cell_type": "code",
   "execution_count": 11,
   "metadata": {},
   "outputs": [],
   "source": [
    "opt = tf.keras.optimizers.Adam(learning_rate=0.001)\n",
    "model.compile(optimizer = opt, loss=tf.keras.losses.BinaryCrossentropy(),metrics=['binary_accuracy'])\n",
    "    #metrics=[tf.keras.metrics.Accuracy(), tf.keras.metrics.Precision(), tf.keras.metrics.Recall()])\n"
   ]
  },
  {
   "cell_type": "code",
   "execution_count": 12,
   "metadata": {},
   "outputs": [],
   "source": [
    "import os\n",
    "checkpoint_path = \"../model/training_1/cp.ckpt\"\n",
    "checkpoint_dir = os.path.dirname(checkpoint_path)\n",
    "\n",
    "# Create a callback that saves the model's weights\n",
    "cp_callback = tf.keras.callbacks.ModelCheckpoint(filepath=checkpoint_path,\n",
    "                                                 save_weights_only=True,\n",
    "                                                 verbose=1)\n"
   ]
  },
  {
   "cell_type": "code",
   "execution_count": 13,
   "metadata": {},
   "outputs": [
    {
     "name": "stderr",
     "output_type": "stream",
     "text": [
      "2022/10/08 14:26:56 INFO mlflow.utils.autologging_utils: Created MLflow autologging run with ID '51070719b7204d9cb43d963d10e11ae5', which will track hyperparameters, performance metrics, model artifacts, and lineage information for the current keras workflow\n"
     ]
    },
    {
     "name": "stdout",
     "output_type": "stream",
     "text": [
      "Epoch 1/10\n",
      "1445/1447 [============================>.] - ETA: 0s - loss: 0.3821 - binary_accuracy: 0.9639\n",
      "Epoch 1: saving model to ../model/training_1/cp.ckpt\n",
      "1447/1447 [==============================] - 21s 14ms/step - loss: 0.3818 - binary_accuracy: 0.9639 - val_loss: 0.0113 - val_binary_accuracy: 0.9987\n",
      "Epoch 2/10\n",
      "1446/1447 [============================>.] - ETA: 0s - loss: 0.2635 - binary_accuracy: 0.9678\n",
      "Epoch 2: saving model to ../model/training_1/cp.ckpt\n",
      "1447/1447 [==============================] - 18s 13ms/step - loss: 0.2635 - binary_accuracy: 0.9678 - val_loss: 0.0107 - val_binary_accuracy: 0.9987\n",
      "Epoch 3/10\n",
      "1445/1447 [============================>.] - ETA: 0s - loss: 0.2347 - binary_accuracy: 0.9667\n",
      "Epoch 3: saving model to ../model/training_1/cp.ckpt\n",
      "1447/1447 [==============================] - 19s 13ms/step - loss: 0.2345 - binary_accuracy: 0.9667 - val_loss: 0.0070 - val_binary_accuracy: 0.9988\n",
      "Epoch 4/10\n",
      "1443/1447 [============================>.] - ETA: 0s - loss: 0.2159 - binary_accuracy: 0.9655\n",
      "Epoch 4: saving model to ../model/training_1/cp.ckpt\n",
      "1447/1447 [==============================] - 19s 13ms/step - loss: 0.2154 - binary_accuracy: 0.9656 - val_loss: 0.0063 - val_binary_accuracy: 0.9988\n",
      "Epoch 5/10\n",
      "1444/1447 [============================>.] - ETA: 0s - loss: 0.2134 - binary_accuracy: 0.9626\n",
      "Epoch 5: saving model to ../model/training_1/cp.ckpt\n",
      "1447/1447 [==============================] - 19s 13ms/step - loss: 0.2131 - binary_accuracy: 0.9627 - val_loss: 0.0057 - val_binary_accuracy: 0.9988\n",
      "Epoch 6/10\n",
      "1446/1447 [============================>.] - ETA: 0s - loss: 0.2005 - binary_accuracy: 0.9634\n",
      "Epoch 6: saving model to ../model/training_1/cp.ckpt\n",
      "1447/1447 [==============================] - 23s 16ms/step - loss: 0.2005 - binary_accuracy: 0.9634 - val_loss: 0.0052 - val_binary_accuracy: 0.9989\n",
      "Epoch 7/10\n",
      "1444/1447 [============================>.] - ETA: 0s - loss: 0.1962 - binary_accuracy: 0.9636\n",
      "Epoch 7: saving model to ../model/training_1/cp.ckpt\n",
      "1447/1447 [==============================] - 19s 13ms/step - loss: 0.1959 - binary_accuracy: 0.9637 - val_loss: 0.0049 - val_binary_accuracy: 0.9989\n",
      "Epoch 8/10\n",
      "1443/1447 [============================>.] - ETA: 0s - loss: 0.1880 - binary_accuracy: 0.9633\n",
      "Epoch 8: saving model to ../model/training_1/cp.ckpt\n",
      "1447/1447 [==============================] - 18s 13ms/step - loss: 0.1876 - binary_accuracy: 0.9634 - val_loss: 0.0049 - val_binary_accuracy: 0.9989\n",
      "Epoch 9/10\n",
      "1445/1447 [============================>.] - ETA: 0s - loss: 0.1850 - binary_accuracy: 0.9634\n",
      "Epoch 9: saving model to ../model/training_1/cp.ckpt\n",
      "1447/1447 [==============================] - 19s 13ms/step - loss: 0.1848 - binary_accuracy: 0.9634 - val_loss: 0.0051 - val_binary_accuracy: 0.9990\n",
      "Epoch 10/10\n",
      "1445/1447 [============================>.] - ETA: 0s - loss: 0.1846 - binary_accuracy: 0.9648\n",
      "Epoch 10: saving model to ../model/training_1/cp.ckpt\n",
      "1447/1447 [==============================] - 19s 13ms/step - loss: 0.1844 - binary_accuracy: 0.9648 - val_loss: 0.0056 - val_binary_accuracy: 0.9989\n"
     ]
    },
    {
     "name": "stderr",
     "output_type": "stream",
     "text": [
      "WARNING:absl:Found untraced functions such as _jit_compiled_convolution_op, _jit_compiled_convolution_op while saving (showing 2 of 2). These functions will not be directly callable after loading.\n"
     ]
    },
    {
     "name": "stdout",
     "output_type": "stream",
     "text": [
      "INFO:tensorflow:Assets written to: /var/folders/0z/5dyhp7xx5g700b6sqbzkl_fw0000gn/T/tmp8au3c0d2/model/data/model/assets\n"
     ]
    },
    {
     "name": "stderr",
     "output_type": "stream",
     "text": [
      "INFO:tensorflow:Assets written to: /var/folders/0z/5dyhp7xx5g700b6sqbzkl_fw0000gn/T/tmp8au3c0d2/model/data/model/assets\n",
      "/Users/michael/opt/anaconda3/envs/anomaly/lib/python3.9/site-packages/_distutils_hack/__init__.py:33: UserWarning: Setuptools is replacing distutils.\n",
      "  warnings.warn(\"Setuptools is replacing distutils.\")\n"
     ]
    }
   ],
   "source": [
    "history = model.fit(train_data, train_labels, \n",
    "          epochs=10, \n",
    "        class_weight=classweight,\n",
    "          batch_size=128,\n",
    "          validation_data=(test_data, test_labels),\n",
    "          shuffle=False, callbacks=[cp_callback])\n",
    "          "
   ]
  },
  {
   "cell_type": "code",
   "execution_count": 14,
   "metadata": {},
   "outputs": [],
   "source": [
    "model.save('../model/model_v5.h5')"
   ]
  },
  {
   "cell_type": "code",
   "execution_count": 15,
   "metadata": {},
   "outputs": [
    {
     "name": "stdout",
     "output_type": "stream",
     "text": [
      "779/779 [==============================] - 3s 4ms/step - loss: 904.5264 - binary_accuracy: 0.9982\n",
      "test loss, test acc, precision, recall: [904.5263671875, 0.9982042908668518]\n"
     ]
    }
   ],
   "source": [
    "results = model.evaluate(X_test, y_test, batch_size=128)\n",
    "print(\"test loss, test acc, precision, recall:\", results)"
   ]
  },
  {
   "cell_type": "code",
   "execution_count": 16,
   "metadata": {},
   "outputs": [
    {
     "name": "stdout",
     "output_type": "stream",
     "text": [
      "Dense layer training result\n"
     ]
    },
    {
     "data": {
      "image/png": "[encoded data removed]",
      "text/plain": [
       "<Figure size 640x480 with 1 Axes>"
      ]
     },
     "metadata": {},
     "output_type": "display_data"
    }
   ],
   "source": [
    "print('Dense layer training result')\n",
    "plt.plot(history.history[\"loss\"], label=\"Training Loss\")\n",
    "plt.plot(history.history[\"val_loss\"], label=\"Validation Loss\")\n",
    "plt.legend()\n",
    "plt.show()"
   ]
  },
  {
   "cell_type": "code",
   "execution_count": 17,
   "metadata": {},
   "outputs": [
    {
     "name": "stdout",
     "output_type": "stream",
     "text": [
      "3116/3116 [==============================] - 5s 2ms/step\n",
      "Deep learning Conv2D layer only confusion matrix\n"
     ]
    },
    {
     "data": {
      "text/plain": [
       "<tf.Tensor: shape=(2, 2), dtype=int32, numpy=\n",
       "array([[99485,    19],\n",
       "       [   88,    91]], dtype=int32)>"
      ]
     },
     "execution_count": 17,
     "metadata": {},
     "output_type": "execute_result"
    }
   ],
   "source": [
    "preds = model.predict(test_data)\n",
    "preds = (preds>0.5)\n",
    "print(\"Deep learning Conv2D layer only confusion matrix\")\n",
    "tf.math.confusion_matrix(\n",
    "    test_labels,\n",
    "    preds,\n",
    "    num_classes=None,\n",
    "    weights=None,\n",
    "    dtype=tf.dtypes.int32,\n",
    "    name=None\n",
    ")"
   ]
  },
  {
   "cell_type": "code",
   "execution_count": 18,
   "metadata": {},
   "outputs": [],
   "source": [
    "m = test_labels.to_numpy()\n",
    "p = preds.flatten()\n",
    "c = np.logical_and(p, m)"
   ]
  },
  {
   "cell_type": "code",
   "execution_count": 19,
   "metadata": {},
   "outputs": [
    {
     "data": {
      "text/plain": [
       "array([[99485,    19],\n",
       "       [   88,    91]])"
      ]
     },
     "execution_count": 19,
     "metadata": {},
     "output_type": "execute_result"
    }
   ],
   "source": [
    "from sklearn.metrics import confusion_matrix\n",
    "confusion_matrix(m, p)"
   ]
  },
  {
   "cell_type": "code",
   "execution_count": 20,
   "metadata": {},
   "outputs": [
    {
     "data": {
      "text/plain": [
       "[934,\n",
       " 2034,\n",
       " 2109,\n",
       " 3274,\n",
       " 6664,\n",
       " 6741,\n",
       " 6804,\n",
       " 7261,\n",
       " 7551,\n",
       " 7694,\n",
       " 7941,\n",
       " 8033,\n",
       " 8791,\n",
       " 9560,\n",
       " 9869,\n",
       " 10415,\n",
       " 10469,\n",
       " 10964,\n",
       " 11640,\n",
       " 12361,\n",
       " 12548,\n",
       " 12705,\n",
       " 13984,\n",
       " 14211,\n",
       " 14702,\n",
       " 15337,\n",
       " 15355,\n",
       " 15764,\n",
       " 16165,\n",
       " 18539,\n",
       " 20244,\n",
       " 20526,\n",
       " 21098,\n",
       " 23020,\n",
       " 25156,\n",
       " 25231,\n",
       " 25324,\n",
       " 27587,\n",
       " 27728,\n",
       " 27850,\n",
       " 28205,\n",
       " 31439,\n",
       " 31903,\n",
       " 32117,\n",
       " 32291,\n",
       " 34122,\n",
       " 34193,\n",
       " 34503,\n",
       " 38229,\n",
       " 39327,\n",
       " 40887,\n",
       " 40962,\n",
       " 43038,\n",
       " 44491,\n",
       " 45369,\n",
       " 45607,\n",
       " 46543,\n",
       " 46868,\n",
       " 47336,\n",
       " 48599,\n",
       " 50196,\n",
       " 54124,\n",
       " 54143,\n",
       " 55527,\n",
       " 56534,\n",
       " 58304,\n",
       " 58341,\n",
       " 59361,\n",
       " 59955,\n",
       " 60751,\n",
       " 60794,\n",
       " 62004,\n",
       " 62157,\n",
       " 62914,\n",
       " 63230,\n",
       " 63371,\n",
       " 63849,\n",
       " 65899,\n",
       " 69577,\n",
       " 69810,\n",
       " 72694,\n",
       " 75338,\n",
       " 75524,\n",
       " 75797,\n",
       " 76233,\n",
       " 76321,\n",
       " 81492,\n",
       " 83102,\n",
       " 83241,\n",
       " 83469,\n",
       " 83895,\n",
       " 85046,\n",
       " 85860,\n",
       " 85940,\n",
       " 86229,\n",
       " 86681,\n",
       " 87338,\n",
       " 88053,\n",
       " 88763,\n",
       " 89560,\n",
       " 90427,\n",
       " 90913,\n",
       " 91477,\n",
       " 91843,\n",
       " 93458,\n",
       " 93620,\n",
       " 94020,\n",
       " 94156,\n",
       " 94399,\n",
       " 98359]"
      ]
     },
     "execution_count": 20,
     "metadata": {},
     "output_type": "execute_result"
    }
   ],
   "source": [
    "# display all true value's index\n",
    "[i for i, x in enumerate(p) if x]"
   ]
  },
  {
   "cell_type": "code",
   "execution_count": 21,
   "metadata": {},
   "outputs": [],
   "source": [
    "#new = tf.keras.models.load_model('../model/model_v1.h5')\n",
    "#new.summary()"
   ]
  }
 ],
 "metadata": {
  "kernelspec": {
   "display_name": "Python 3.9.13 ('anomaly')",
   "language": "python",
   "name": "python3"
  },
  "language_info": {
   "codemirror_mode": {
    "name": "ipython",
    "version": 3
   },
   "file_extension": ".py",
   "mimetype": "text/x-python",
   "name": "python",
   "nbconvert_exporter": "python",
   "pygments_lexer": "ipython3",
   "version": "3.9.13"
  },
  "orig_nbformat": 4,
  "vscode": {
   "interpreter": {
    "hash": "398cd56811f9a82a260dab094c64fd50f393d31ec7b55cfe6152d79bfbea3cbd"
   }
  }
 },
 "nbformat": 4,
 "nbformat_minor": 2
}
