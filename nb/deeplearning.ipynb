{
 "cells": [
  {
   "cell_type": "markdown",
   "metadata": {},
   "source": [
    "# DeepLearning method for credit card fraud detection.\n",
    "* In this notebook, I will explore CNN and LSTM method for the fraud detection."
   ]
  },
  {
   "cell_type": "code",
   "execution_count": 1,
   "metadata": {},
   "outputs": [
    {
     "name": "stderr",
     "output_type": "stream",
     "text": [
      "2022-10-11 09:46:07.864624: I tensorflow/core/platform/cpu_feature_guard.cc:193] This TensorFlow binary is optimized with oneAPI Deep Neural Network Library (oneDNN) to use the following CPU instructions in performance-critical operations:  AVX2 FMA\n",
      "To enable them in other operations, rebuild TensorFlow with the appropriate compiler flags.\n"
     ]
    }
   ],
   "source": [
    "import matplotlib.pyplot as plt\n",
    "import datetime\n",
    "import numpy as np\n",
    "import pandas as pd\n",
    "import tensorflow as tf\n",
    "from sklearn.preprocessing import StandardScaler, MinMaxScaler\n",
    "from sklearn.metrics import accuracy_score, precision_score, recall_score\n",
    "from sklearn.model_selection import train_test_split\n",
    "from tensorflow.keras import layers, losses\n",
    "from tensorflow.keras.models import Model"
   ]
  },
  {
   "cell_type": "code",
   "execution_count": 2,
   "metadata": {},
   "outputs": [
    {
     "name": "stderr",
     "output_type": "stream",
     "text": [
      "/Users/michael/opt/anaconda3/envs/anomaly/lib/python3.9/site-packages/mlflow/utils/autologging_utils/__init__.py:416: FutureWarning: Autologging support for keras >= 2.6.0 has been deprecated and will be removed in a future MLflow release. Use `mlflow.tensorflow.autolog()` instead.\n",
      "  return _autolog(*args, **kwargs)\n"
     ]
    }
   ],
   "source": [
    "# The following import and function call are the only additions to code required\n",
    "# to automatically log metrics and parameters to MLflow.\n",
    "import mlflow.keras\n",
    "\n",
    "mlflow.keras.autolog()"
   ]
  },
  {
   "cell_type": "code",
   "execution_count": 3,
   "metadata": {},
   "outputs": [],
   "source": [
    "# load file\n",
    "filepath = \"../Data/creditcard.csv\"\n",
    "df = pd.read_csv(filepath)"
   ]
  },
  {
   "cell_type": "code",
   "execution_count": 4,
   "metadata": {},
   "outputs": [],
   "source": [
    "# identify X features, and y class\n",
    "# Those data have been used froom creditCard notbook, EDA\n",
    "X = df.drop(['Class'], axis=1)\n",
    "y = df['Class']\n",
    "X_train, X_test, y_train, y_test = train_test_split(X,y, test_size=0.25, random_state = 43)"
   ]
  },
  {
   "cell_type": "code",
   "execution_count": 5,
   "metadata": {},
   "outputs": [],
   "source": [
    "# balanced class with sklearn compute class weight\n",
    "from sklearn.utils import compute_class_weight\n",
    "\n",
    "cw = compute_class_weight(class_weight =\"balanced\", classes =np.unique(y_train), y = y_train)\n",
    "#classweight = dict(zip(np.unique(y_train), cw))\n",
    "classweight = {0:1, 1:100}"
   ]
  },
  {
   "cell_type": "code",
   "execution_count": 6,
   "metadata": {},
   "outputs": [],
   "source": [
    "# Normalize data, scale to [0,1]\n",
    "#train_data = StandardScaler().fit_transform(X_train)\n",
    "#test_data = StandardScaler().fit_transform(X_test)\n",
    "train_data = MinMaxScaler().fit_transform(X_train)\n",
    "test_data = MinMaxScaler().fit_transform(X_test)\n",
    "train_labels = y_train\n",
    "test_labels = y_test"
   ]
  },
  {
   "cell_type": "code",
   "execution_count": 7,
   "metadata": {},
   "outputs": [],
   "source": [
    "import pickle as pkl\n",
    "processced_data = {'train_data':train_data,'test_data':test_data, 'train_labels':train_labels, 'test_labels':test_labels}\n",
    "\n",
    "#to save it\n",
    "with open(\"../Data/creditCard.pkl\", \"wb\") as f:\n",
    "    pkl.dump(processced_data, f)\n",
    "\n",
    "\n"
   ]
  },
  {
   "cell_type": "code",
   "execution_count": 8,
   "metadata": {},
   "outputs": [],
   "source": [
    "#train_labels = train_labels.astype(bool)\n",
    "#test_labels = test_labels.astype(bool)\n",
    "\n",
    "normal_train_data = train_data[train_labels]\n",
    "normal_test_data = test_data[test_labels]\n",
    "\n",
    "anomalous_train_data = train_data[~train_labels]\n",
    "anomalous_test_data = test_data[~test_labels]"
   ]
  },
  {
   "cell_type": "code",
   "execution_count": 9,
   "metadata": {},
   "outputs": [
    {
     "name": "stdout",
     "output_type": "stream",
     "text": [
      "(213605,)\n",
      "(213605, 30)\n",
      "(71202, 30)\n"
     ]
    }
   ],
   "source": [
    "print(train_labels.shape)\n",
    "print(train_data.shape)\n",
    "print(test_data.shape)"
   ]
  },
  {
   "cell_type": "code",
   "execution_count": 10,
   "metadata": {},
   "outputs": [
    {
     "name": "stderr",
     "output_type": "stream",
     "text": [
      "2022-10-11 09:46:16.895641: I tensorflow/core/platform/cpu_feature_guard.cc:193] This TensorFlow binary is optimized with oneAPI Deep Neural Network Library (oneDNN) to use the following CPU instructions in performance-critical operations:  AVX2 FMA\n",
      "To enable them in other operations, rebuild TensorFlow with the appropriate compiler flags.\n"
     ]
    }
   ],
   "source": [
    "model = tf.keras.models.Sequential([\n",
    "    tf.keras.layers.Reshape(([30,1]),input_shape=[30]),\n",
    "    layers.Conv1D(64,kernel_size=1, padding='same', activation='relu'),\n",
    "    layers.Conv1D(64,kernel_size=1, padding='same', activation='relu'),\n",
    "    layers.MaxPooling1D(pool_size=1),\n",
    "    layers.Dropout(0.2),\n",
    "    layers.Dense(64, activation='relu'),\n",
    "    #layers.Dense(32, activation='relu'),\n",
    "    \n",
    "    layers.Flatten(),\n",
    "    layers.Dense(100, activation='relu'),\n",
    "    \n",
    "    layers.Dense(1, activation=\"sigmoid\"),\n",
    "    ])\n"
   ]
  },
  {
   "cell_type": "code",
   "execution_count": 11,
   "metadata": {},
   "outputs": [
    {
     "name": "stdout",
     "output_type": "stream",
     "text": [
      "Model: \"sequential\"\n",
      "_________________________________________________________________\n",
      " Layer (type)                Output Shape              Param #   \n",
      "=================================================================\n",
      " reshape (Reshape)           (None, 30, 1)             0         \n",
      "                                                                 \n",
      " conv1d (Conv1D)             (None, 30, 64)            128       \n",
      "                                                                 \n",
      " conv1d_1 (Conv1D)           (None, 30, 64)            4160      \n",
      "                                                                 \n",
      " max_pooling1d (MaxPooling1D  (None, 30, 64)           0         \n",
      " )                                                               \n",
      "                                                                 \n",
      " dropout (Dropout)           (None, 30, 64)            0         \n",
      "                                                                 \n",
      " dense (Dense)               (None, 30, 64)            4160      \n",
      "                                                                 \n",
      " flatten (Flatten)           (None, 1920)              0         \n",
      "                                                                 \n",
      " dense_1 (Dense)             (None, 100)               192100    \n",
      "                                                                 \n",
      " dense_2 (Dense)             (None, 1)                 101       \n",
      "                                                                 \n",
      "=================================================================\n",
      "Total params: 200,649\n",
      "Trainable params: 200,649\n",
      "Non-trainable params: 0\n",
      "_________________________________________________________________\n"
     ]
    }
   ],
   "source": [
    "model.summary()"
   ]
  },
  {
   "cell_type": "code",
   "execution_count": 12,
   "metadata": {},
   "outputs": [],
   "source": [
    "opt = tf.keras.optimizers.Adam(learning_rate=0.001)\n",
    "model.compile(optimizer = opt, loss=tf.keras.losses.BinaryCrossentropy(),#metrics=['binary_accuracy'])\n",
    "    metrics=[tf.keras.metrics.Accuracy(), tf.keras.metrics.Precision(), tf.keras.metrics.Recall()])\n"
   ]
  },
  {
   "cell_type": "code",
   "execution_count": 13,
   "metadata": {},
   "outputs": [],
   "source": [
    "import os\n",
    "checkpoint_path = \"../model/training_1/cp.ckpt\"\n",
    "checkpoint_dir = os.path.dirname(checkpoint_path)\n",
    "\n",
    "# Create a callback that saves the model's weights\n",
    "cp_callback = tf.keras.callbacks.ModelCheckpoint(filepath=checkpoint_path,\n",
    "                                                 save_weights_only=True,\n",
    "                                                 verbose=1)\n"
   ]
  },
  {
   "cell_type": "code",
   "execution_count": 14,
   "metadata": {},
   "outputs": [
    {
     "name": "stderr",
     "output_type": "stream",
     "text": [
      "2022/10/11 09:46:17 INFO mlflow.utils.autologging_utils: Created MLflow autologging run with ID 'a8d327e4d2ce4a4682e264fa2d75ac42', which will track hyperparameters, performance metrics, model artifacts, and lineage information for the current keras workflow\n"
     ]
    },
    {
     "name": "stdout",
     "output_type": "stream",
     "text": [
      "Epoch 1/30\n",
      "410/410 [==============================] - ETA: 0s - loss: 0.3090 - accuracy: 0.0000e+00 - precision: 0.7382 - recall: 0.3863\n",
      "Epoch 1: saving model to ../model/training_1/cp.ckpt\n",
      "410/410 [==============================] - 19s 44ms/step - loss: 0.3090 - accuracy: 0.0000e+00 - precision: 0.7382 - recall: 0.3863 - val_loss: 0.0113 - val_accuracy: 0.0000e+00 - val_precision: 0.8113 - val_recall: 0.6772\n",
      "Epoch 2/30\n",
      "409/410 [============================>.] - ETA: 0s - loss: 0.2210 - accuracy: 0.0000e+00 - precision: 0.4767 - recall: 0.7562\n",
      "Epoch 2: saving model to ../model/training_1/cp.ckpt\n",
      "410/410 [==============================] - 20s 49ms/step - loss: 0.2205 - accuracy: 0.0000e+00 - precision: 0.4759 - recall: 0.7562 - val_loss: 0.0051 - val_accuracy: 0.0000e+00 - val_precision: 0.8370 - val_recall: 0.6063\n",
      "Epoch 3/30\n",
      "410/410 [==============================] - ETA: 0s - loss: 0.1982 - accuracy: 0.0000e+00 - precision: 0.4153 - recall: 0.8055\n",
      "Epoch 3: saving model to ../model/training_1/cp.ckpt\n",
      "410/410 [==============================] - 13s 32ms/step - loss: 0.1982 - accuracy: 0.0000e+00 - precision: 0.4153 - recall: 0.8055 - val_loss: 0.0055 - val_accuracy: 0.0000e+00 - val_precision: 0.7925 - val_recall: 0.6614\n",
      "Epoch 4/30\n",
      "410/410 [==============================] - ETA: 0s - loss: 0.1917 - accuracy: 0.0000e+00 - precision: 0.3731 - recall: 0.8055\n",
      "Epoch 4: saving model to ../model/training_1/cp.ckpt\n",
      "410/410 [==============================] - 13s 31ms/step - loss: 0.1917 - accuracy: 0.0000e+00 - precision: 0.3731 - recall: 0.8055 - val_loss: 0.0040 - val_accuracy: 0.0000e+00 - val_precision: 0.8182 - val_recall: 0.6378\n",
      "Epoch 5/30\n",
      "410/410 [==============================] - ETA: 0s - loss: 0.1748 - accuracy: 0.0000e+00 - precision: 0.2853 - recall: 0.8137\n",
      "Epoch 5: saving model to ../model/training_1/cp.ckpt\n",
      "410/410 [==============================] - 13s 31ms/step - loss: 0.1748 - accuracy: 0.0000e+00 - precision: 0.2853 - recall: 0.8137 - val_loss: 0.0037 - val_accuracy: 0.0000e+00 - val_precision: 0.8058 - val_recall: 0.6535\n",
      "Epoch 6/30\n",
      "409/410 [============================>.] - ETA: 0s - loss: 0.1710 - accuracy: 0.0000e+00 - precision: 0.3393 - recall: 0.8274\n",
      "Epoch 6: saving model to ../model/training_1/cp.ckpt\n",
      "410/410 [==============================] - 13s 31ms/step - loss: 0.1706 - accuracy: 0.0000e+00 - precision: 0.3393 - recall: 0.8274 - val_loss: 0.0039 - val_accuracy: 0.0000e+00 - val_precision: 0.8202 - val_recall: 0.5748\n",
      "Epoch 7/30\n",
      "409/410 [============================>.] - ETA: 0s - loss: 0.1666 - accuracy: 0.0000e+00 - precision: 0.3240 - recall: 0.8287\n",
      "Epoch 7: saving model to ../model/training_1/cp.ckpt\n",
      "410/410 [==============================] - 13s 31ms/step - loss: 0.1667 - accuracy: 0.0000e+00 - precision: 0.3262 - recall: 0.8301 - val_loss: 0.0038 - val_accuracy: 0.0000e+00 - val_precision: 0.7879 - val_recall: 0.6142\n",
      "Epoch 8/30\n",
      "409/410 [============================>.] - ETA: 0s - loss: 0.1506 - accuracy: 0.0000e+00 - precision: 0.2298 - recall: 0.8292\n",
      "Epoch 8: saving model to ../model/training_1/cp.ckpt\n",
      "410/410 [==============================] - 13s 32ms/step - loss: 0.1505 - accuracy: 0.0000e+00 - precision: 0.2309 - recall: 0.8301 - val_loss: 0.0037 - val_accuracy: 0.0000e+00 - val_precision: 0.8333 - val_recall: 0.5906\n",
      "Epoch 9/30\n",
      "409/410 [============================>.] - ETA: 0s - loss: 0.1299 - accuracy: 0.0000e+00 - precision: 0.2458 - recall: 0.8493\n",
      "Epoch 9: saving model to ../model/training_1/cp.ckpt\n",
      "410/410 [==============================] - 13s 32ms/step - loss: 0.1296 - accuracy: 0.0000e+00 - precision: 0.2458 - recall: 0.8493 - val_loss: 0.0036 - val_accuracy: 0.0000e+00 - val_precision: 0.7959 - val_recall: 0.6142\n",
      "Epoch 10/30\n",
      "410/410 [==============================] - ETA: 0s - loss: 0.1172 - accuracy: 0.0000e+00 - precision: 0.2382 - recall: 0.8603\n",
      "Epoch 10: saving model to ../model/training_1/cp.ckpt\n",
      "410/410 [==============================] - 13s 33ms/step - loss: 0.1172 - accuracy: 0.0000e+00 - precision: 0.2382 - recall: 0.8603 - val_loss: 0.0036 - val_accuracy: 0.0000e+00 - val_precision: 0.8316 - val_recall: 0.6220\n",
      "Epoch 11/30\n",
      "409/410 [============================>.] - ETA: 0s - loss: 0.1225 - accuracy: 0.0000e+00 - precision: 0.2510 - recall: 0.8489\n",
      "Epoch 11: saving model to ../model/training_1/cp.ckpt\n",
      "410/410 [==============================] - 13s 32ms/step - loss: 0.1222 - accuracy: 0.0000e+00 - precision: 0.2512 - recall: 0.8493 - val_loss: 0.0041 - val_accuracy: 0.0000e+00 - val_precision: 0.8105 - val_recall: 0.6063\n",
      "Epoch 12/30\n",
      "409/410 [============================>.] - ETA: 0s - loss: 0.1219 - accuracy: 0.0000e+00 - precision: 0.2304 - recall: 0.8384\n",
      "Epoch 12: saving model to ../model/training_1/cp.ckpt\n",
      "410/410 [==============================] - 13s 33ms/step - loss: 0.1216 - accuracy: 0.0000e+00 - precision: 0.2304 - recall: 0.8384 - val_loss: 0.0045 - val_accuracy: 0.0000e+00 - val_precision: 0.8734 - val_recall: 0.5433\n",
      "Epoch 13/30\n",
      "410/410 [==============================] - ETA: 0s - loss: 0.1163 - accuracy: 0.0000e+00 - precision: 0.2642 - recall: 0.8548\n",
      "Epoch 13: saving model to ../model/training_1/cp.ckpt\n",
      "410/410 [==============================] - 14s 34ms/step - loss: 0.1163 - accuracy: 0.0000e+00 - precision: 0.2642 - recall: 0.8548 - val_loss: 0.0038 - val_accuracy: 0.0000e+00 - val_precision: 0.8824 - val_recall: 0.5906\n",
      "Epoch 14/30\n",
      "409/410 [============================>.] - ETA: 0s - loss: 0.1109 - accuracy: 0.0000e+00 - precision: 0.2568 - recall: 0.8567\n",
      "Epoch 14: saving model to ../model/training_1/cp.ckpt\n",
      "410/410 [==============================] - 13s 33ms/step - loss: 0.1108 - accuracy: 0.0000e+00 - precision: 0.2576 - recall: 0.8575 - val_loss: 0.0038 - val_accuracy: 0.0000e+00 - val_precision: 0.8444 - val_recall: 0.5984\n",
      "Epoch 15/30\n",
      "409/410 [============================>.] - ETA: 0s - loss: 0.1139 - accuracy: 0.0000e+00 - precision: 0.2639 - recall: 0.8599\n",
      "Epoch 15: saving model to ../model/training_1/cp.ckpt\n",
      "410/410 [==============================] - 13s 33ms/step - loss: 0.1137 - accuracy: 0.0000e+00 - precision: 0.2634 - recall: 0.8603 - val_loss: 0.0042 - val_accuracy: 0.0000e+00 - val_precision: 0.8571 - val_recall: 0.5669\n",
      "Epoch 16/30\n",
      "409/410 [============================>.] - ETA: 0s - loss: 0.1226 - accuracy: 0.0000e+00 - precision: 0.2523 - recall: 0.8457\n",
      "Epoch 16: saving model to ../model/training_1/cp.ckpt\n",
      "410/410 [==============================] - 14s 33ms/step - loss: 0.1223 - accuracy: 0.0000e+00 - precision: 0.2533 - recall: 0.8466 - val_loss: 0.0039 - val_accuracy: 0.0000e+00 - val_precision: 0.8675 - val_recall: 0.5669\n",
      "Epoch 17/30\n",
      "410/410 [==============================] - ETA: 0s - loss: 0.1166 - accuracy: 0.0000e+00 - precision: 0.2527 - recall: 0.8466\n",
      "Epoch 17: saving model to ../model/training_1/cp.ckpt\n",
      "410/410 [==============================] - 14s 34ms/step - loss: 0.1166 - accuracy: 0.0000e+00 - precision: 0.2527 - recall: 0.8466 - val_loss: 0.0043 - val_accuracy: 0.0000e+00 - val_precision: 0.8659 - val_recall: 0.5591\n",
      "Epoch 18/30\n",
      "409/410 [============================>.] - ETA: 0s - loss: 0.1143 - accuracy: 0.0000e+00 - precision: 0.2746 - recall: 0.8540\n",
      "Epoch 18: saving model to ../model/training_1/cp.ckpt\n",
      "410/410 [==============================] - 14s 33ms/step - loss: 0.1141 - accuracy: 0.0000e+00 - precision: 0.2759 - recall: 0.8548 - val_loss: 0.0039 - val_accuracy: 0.0000e+00 - val_precision: 0.8488 - val_recall: 0.5748\n",
      "Epoch 19/30\n",
      "409/410 [============================>.] - ETA: 0s - loss: 0.1095 - accuracy: 0.0000e+00 - precision: 0.2623 - recall: 0.8512\n",
      "Epoch 19: saving model to ../model/training_1/cp.ckpt\n",
      "410/410 [==============================] - 13s 32ms/step - loss: 0.1093 - accuracy: 0.0000e+00 - precision: 0.2633 - recall: 0.8521 - val_loss: 0.0038 - val_accuracy: 0.0000e+00 - val_precision: 0.8780 - val_recall: 0.5669\n",
      "Epoch 20/30\n",
      "409/410 [============================>.] - ETA: 0s - loss: 0.1077 - accuracy: 0.0000e+00 - precision: 0.2612 - recall: 0.8516\n",
      "Epoch 20: saving model to ../model/training_1/cp.ckpt\n",
      "410/410 [==============================] - 14s 34ms/step - loss: 0.1075 - accuracy: 0.0000e+00 - precision: 0.2618 - recall: 0.8521 - val_loss: 0.0042 - val_accuracy: 0.0000e+00 - val_precision: 0.8718 - val_recall: 0.5354\n",
      "Epoch 21/30\n",
      "409/410 [============================>.] - ETA: 0s - loss: 0.1100 - accuracy: 0.0000e+00 - precision: 0.2911 - recall: 0.8630\n",
      "Epoch 21: saving model to ../model/training_1/cp.ckpt\n",
      "410/410 [==============================] - 14s 33ms/step - loss: 0.1098 - accuracy: 0.0000e+00 - precision: 0.2903 - recall: 0.8630 - val_loss: 0.0037 - val_accuracy: 0.0000e+00 - val_precision: 0.8523 - val_recall: 0.5906\n",
      "Epoch 22/30\n",
      "409/410 [============================>.] - ETA: 0s - loss: 0.1124 - accuracy: 0.0000e+00 - precision: 0.2873 - recall: 0.8540\n",
      "Epoch 22: saving model to ../model/training_1/cp.ckpt\n",
      "410/410 [==============================] - 13s 32ms/step - loss: 0.1121 - accuracy: 0.0000e+00 - precision: 0.2886 - recall: 0.8548 - val_loss: 0.0045 - val_accuracy: 0.0000e+00 - val_precision: 0.8718 - val_recall: 0.5354\n",
      "Epoch 23/30\n",
      "410/410 [==============================] - ETA: 0s - loss: 0.1056 - accuracy: 0.0000e+00 - precision: 0.2615 - recall: 0.8548\n",
      "Epoch 23: saving model to ../model/training_1/cp.ckpt\n",
      "410/410 [==============================] - 13s 33ms/step - loss: 0.1056 - accuracy: 0.0000e+00 - precision: 0.2615 - recall: 0.8548 - val_loss: 0.0046 - val_accuracy: 0.0000e+00 - val_precision: 0.8816 - val_recall: 0.5276\n",
      "Epoch 24/30\n",
      "409/410 [============================>.] - ETA: 0s - loss: 0.1107 - accuracy: 0.0000e+00 - precision: 0.2947 - recall: 0.8599\n",
      "Epoch 24: saving model to ../model/training_1/cp.ckpt\n",
      "410/410 [==============================] - 20s 48ms/step - loss: 0.1105 - accuracy: 0.0000e+00 - precision: 0.2951 - recall: 0.8603 - val_loss: 0.0038 - val_accuracy: 0.0000e+00 - val_precision: 0.8605 - val_recall: 0.5827\n",
      "Epoch 25/30\n",
      "410/410 [==============================] - ETA: 0s - loss: 0.1086 - accuracy: 0.0000e+00 - precision: 0.2898 - recall: 0.8521\n",
      "Epoch 25: saving model to ../model/training_1/cp.ckpt\n",
      "410/410 [==============================] - 14s 34ms/step - loss: 0.1086 - accuracy: 0.0000e+00 - precision: 0.2898 - recall: 0.8521 - val_loss: 0.0038 - val_accuracy: 0.0000e+00 - val_precision: 0.8556 - val_recall: 0.6063\n",
      "Epoch 26/30\n",
      "410/410 [==============================] - ETA: 0s - loss: 0.1060 - accuracy: 0.0000e+00 - precision: 0.2726 - recall: 0.8575\n",
      "Epoch 26: saving model to ../model/training_1/cp.ckpt\n",
      "410/410 [==============================] - 13s 32ms/step - loss: 0.1060 - accuracy: 0.0000e+00 - precision: 0.2726 - recall: 0.8575 - val_loss: 0.0038 - val_accuracy: 0.0000e+00 - val_precision: 0.8659 - val_recall: 0.5591\n",
      "Epoch 27/30\n",
      "409/410 [============================>.] - ETA: 0s - loss: 0.1053 - accuracy: 0.0000e+00 - precision: 0.2911 - recall: 0.8438\n",
      "Epoch 27: saving model to ../model/training_1/cp.ckpt\n",
      "410/410 [==============================] - 13s 33ms/step - loss: 0.1051 - accuracy: 0.0000e+00 - precision: 0.2908 - recall: 0.8438 - val_loss: 0.0039 - val_accuracy: 0.0000e+00 - val_precision: 0.8537 - val_recall: 0.5512\n",
      "Epoch 28/30\n",
      "409/410 [============================>.] - ETA: 0s - loss: 0.1079 - accuracy: 0.0000e+00 - precision: 0.3095 - recall: 0.8591\n",
      "Epoch 28: saving model to ../model/training_1/cp.ckpt\n",
      "410/410 [==============================] - 13s 33ms/step - loss: 0.1078 - accuracy: 0.0000e+00 - precision: 0.3115 - recall: 0.8603 - val_loss: 0.0039 - val_accuracy: 0.0000e+00 - val_precision: 0.8554 - val_recall: 0.5591\n",
      "Epoch 29/30\n",
      "409/410 [============================>.] - ETA: 0s - loss: 0.1106 - accuracy: 0.0000e+00 - precision: 0.2748 - recall: 0.8516\n",
      "Epoch 29: saving model to ../model/training_1/cp.ckpt\n",
      "410/410 [==============================] - 14s 34ms/step - loss: 0.1103 - accuracy: 0.0000e+00 - precision: 0.2752 - recall: 0.8521 - val_loss: 0.0041 - val_accuracy: 0.0000e+00 - val_precision: 0.8765 - val_recall: 0.5591\n",
      "Epoch 30/30\n",
      "409/410 [============================>.] - ETA: 0s - loss: 0.1075 - accuracy: 0.0000e+00 - precision: 0.2866 - recall: 0.8521\n",
      "Epoch 30: saving model to ../model/training_1/cp.ckpt\n",
      "410/410 [==============================] - 13s 33ms/step - loss: 0.1073 - accuracy: 0.0000e+00 - precision: 0.2864 - recall: 0.8521 - val_loss: 0.0042 - val_accuracy: 0.0000e+00 - val_precision: 0.8765 - val_recall: 0.5591\n"
     ]
    },
    {
     "name": "stderr",
     "output_type": "stream",
     "text": [
      "WARNING:absl:Found untraced functions such as _jit_compiled_convolution_op, _jit_compiled_convolution_op while saving (showing 2 of 2). These functions will not be directly callable after loading.\n"
     ]
    },
    {
     "name": "stdout",
     "output_type": "stream",
     "text": [
      "INFO:tensorflow:Assets written to: /var/folders/0z/5dyhp7xx5g700b6sqbzkl_fw0000gn/T/tmpwf2g66xk/model/data/model/assets\n"
     ]
    },
    {
     "name": "stderr",
     "output_type": "stream",
     "text": [
      "INFO:tensorflow:Assets written to: /var/folders/0z/5dyhp7xx5g700b6sqbzkl_fw0000gn/T/tmpwf2g66xk/model/data/model/assets\n",
      "/Users/michael/opt/anaconda3/envs/anomaly/lib/python3.9/site-packages/_distutils_hack/__init__.py:33: UserWarning: Setuptools is replacing distutils.\n",
      "  warnings.warn(\"Setuptools is replacing distutils.\")\n"
     ]
    }
   ],
   "source": [
    "history = model.fit(train_data, train_labels, \n",
    "          epochs=30, \n",
    "        class_weight=classweight,\n",
    "          batch_size=521,\n",
    "          validation_data=(test_data, test_labels),\n",
    "          shuffle=True, callbacks=[cp_callback])\n",
    "          "
   ]
  },
  {
   "cell_type": "code",
   "execution_count": 15,
   "metadata": {},
   "outputs": [],
   "source": [
    "model.save('../model/model_v12_conv1D.h5')"
   ]
  },
  {
   "cell_type": "code",
   "execution_count": 16,
   "metadata": {},
   "outputs": [
    {
     "name": "stdout",
     "output_type": "stream",
     "text": [
      "1187/1187 [==============================] - 5s 4ms/step - loss: 89.0122 - accuracy: 0.9982 - precision: 0.0000e+00 - recall: 0.0000e+00\n",
      "test loss, test acc, precision, recall: [89.01223754882812, 0.998160183429718, 0.0, 0.0]\n"
     ]
    }
   ],
   "source": [
    "results = model.evaluate(X_test, y_test, batch_size=60)\n",
    "print(\"test loss, test acc, precision, recall:\", results)"
   ]
  },
  {
   "cell_type": "code",
   "execution_count": 17,
   "metadata": {},
   "outputs": [
    {
     "name": "stdout",
     "output_type": "stream",
     "text": [
      "Dense layer training result\n"
     ]
    },
    {
     "data": {
      "image/png": "[encoded data removed]",
      "text/plain": [
       "<Figure size 640x480 with 1 Axes>"
      ]
     },
     "metadata": {},
     "output_type": "display_data"
    }
   ],
   "source": [
    "print('Dense layer training result')\n",
    "plt.plot(history.history[\"loss\"], label=\"Training Loss\")\n",
    "plt.plot(history.history[\"val_loss\"], label=\"Validation Loss\")\n",
    "plt.legend()\n",
    "plt.show()"
   ]
  },
  {
   "cell_type": "code",
   "execution_count": 18,
   "metadata": {},
   "outputs": [
    {
     "name": "stdout",
     "output_type": "stream",
     "text": [
      "2226/2226 [==============================] - 8s 3ms/step\n",
      "Deep learning Conv2D layer only confusion matrix\n"
     ]
    },
    {
     "data": {
      "text/plain": [
       "<tf.Tensor: shape=(2, 2), dtype=int32, numpy=\n",
       "array([[71044,    31],\n",
       "       [   33,    94]], dtype=int32)>"
      ]
     },
     "execution_count": 18,
     "metadata": {},
     "output_type": "execute_result"
    }
   ],
   "source": [
    "preds = model.predict(test_data)\n",
    "preds = (preds>0.05)\n",
    "print(\"Deep learning Conv2D layer only confusion matrix\")\n",
    "tf.math.confusion_matrix(\n",
    "    test_labels,\n",
    "    preds,\n",
    "    num_classes=None,\n",
    "    weights=None,\n",
    "    dtype=tf.dtypes.int32,\n",
    "    name=None\n",
    ")"
   ]
  },
  {
   "cell_type": "code",
   "execution_count": 19,
   "metadata": {},
   "outputs": [],
   "source": [
    "m = test_labels.to_numpy()\n",
    "p = preds.flatten()\n",
    "c = np.logical_and(p, m)"
   ]
  },
  {
   "cell_type": "code",
   "execution_count": 26,
   "metadata": {},
   "outputs": [
    {
     "name": "stdout",
     "output_type": "stream",
     "text": [
      "Accuracy = 0.9991011488441336\n",
      "Precision = 0.752\n",
      "Recall = 0.7401574803149606\n"
     ]
    }
   ],
   "source": [
    "from sklearn.metrics import confusion_matrix\n",
    "from utils import *\n",
    "confusion_matrix(m, p)\n",
    "\n",
    "scores = stats('deepLearninig',p,m)\n",
    "dl_scores_df = pd.DataFrame(scores)\n",
    "other_score = pd.read_csv(\"../Data/MachineLearningSummary.csv\")\n",
    "df_all = pd.concat([other_score, dl_scores_df])\n",
    "df_all.to_csv(\"../Data/MachineLearningSummary.csv\")\n"
   ]
  },
  {
   "cell_type": "code",
   "execution_count": 31,
   "metadata": {},
   "outputs": [
    {
     "data": {
      "text/html": [
       "<div>\n",
       "<style scoped>\n",
       "    .dataframe tbody tr th:only-of-type {\n",
       "        vertical-align: middle;\n",
       "    }\n",
       "\n",
       "    .dataframe tbody tr th {\n",
       "        vertical-align: top;\n",
       "    }\n",
       "\n",
       "    .dataframe thead th {\n",
       "        text-align: right;\n",
       "    }\n",
       "</style>\n",
       "<table border=\"1\" class=\"dataframe\">\n",
       "  <thead>\n",
       "    <tr style=\"text-align: right;\">\n",
       "      <th></th>\n",
       "      <th>Unnamed: 0.1</th>\n",
       "      <th>Unnamed: 0</th>\n",
       "      <th>model</th>\n",
       "      <th>accuracy</th>\n",
       "      <th>precision</th>\n",
       "      <th>recall</th>\n",
       "      <th>f1_score</th>\n",
       "      <th>ROC</th>\n",
       "    </tr>\n",
       "  </thead>\n",
       "  <tbody>\n",
       "    <tr>\n",
       "      <th>0</th>\n",
       "      <td>0.0</td>\n",
       "      <td>0.0</td>\n",
       "      <td>LogisticRegression(class_weight='balanced', ma...</td>\n",
       "      <td>0.977704</td>\n",
       "      <td>0.070796</td>\n",
       "      <td>0.905660</td>\n",
       "      <td>0.131327</td>\n",
       "      <td>0.638492</td>\n",
       "    </tr>\n",
       "    <tr>\n",
       "      <th>1</th>\n",
       "      <td>1.0</td>\n",
       "      <td>1.0</td>\n",
       "      <td>SVC(class_weight={0: 1, 1: 100})</td>\n",
       "      <td>0.998420</td>\n",
       "      <td>0.556338</td>\n",
       "      <td>0.745283</td>\n",
       "      <td>0.637097</td>\n",
       "      <td>0.500053</td>\n",
       "    </tr>\n",
       "    <tr>\n",
       "      <th>2</th>\n",
       "      <td>2.0</td>\n",
       "      <td>2.0</td>\n",
       "      <td>SVC(class_weight='balanced')</td>\n",
       "      <td>0.996840</td>\n",
       "      <td>0.341880</td>\n",
       "      <td>0.754717</td>\n",
       "      <td>0.470588</td>\n",
       "      <td>0.500053</td>\n",
       "    </tr>\n",
       "    <tr>\n",
       "      <th>3</th>\n",
       "      <td>3.0</td>\n",
       "      <td>3.0</td>\n",
       "      <td>RandomForestClassifier(class_weight='balanced'...</td>\n",
       "      <td>0.999421</td>\n",
       "      <td>0.929412</td>\n",
       "      <td>0.745283</td>\n",
       "      <td>0.827225</td>\n",
       "      <td>NaN</td>\n",
       "    </tr>\n",
       "    <tr>\n",
       "      <th>4</th>\n",
       "      <td>4.0</td>\n",
       "      <td>4.0</td>\n",
       "      <td>XGBClassifier(base_score=0.5, booster='gbtree'...</td>\n",
       "      <td>0.999491</td>\n",
       "      <td>0.942529</td>\n",
       "      <td>0.773585</td>\n",
       "      <td>0.849741</td>\n",
       "      <td>NaN</td>\n",
       "    </tr>\n",
       "    <tr>\n",
       "      <th>5</th>\n",
       "      <td>0.0</td>\n",
       "      <td>NaN</td>\n",
       "      <td>autoencoder</td>\n",
       "      <td>0.167234</td>\n",
       "      <td>0.001600</td>\n",
       "      <td>0.760000</td>\n",
       "      <td>0.003194</td>\n",
       "      <td>141.000000</td>\n",
       "    </tr>\n",
       "    <tr>\n",
       "      <th>0</th>\n",
       "      <td>NaN</td>\n",
       "      <td>NaN</td>\n",
       "      <td>deepLearninig</td>\n",
       "      <td>0.999101</td>\n",
       "      <td>0.752000</td>\n",
       "      <td>0.740157</td>\n",
       "      <td>0.746032</td>\n",
       "      <td>NaN</td>\n",
       "    </tr>\n",
       "  </tbody>\n",
       "</table>\n",
       "</div>"
      ],
      "text/plain": [
       "   Unnamed: 0.1  Unnamed: 0  \\\n",
       "0           0.0         0.0   \n",
       "1           1.0         1.0   \n",
       "2           2.0         2.0   \n",
       "3           3.0         3.0   \n",
       "4           4.0         4.0   \n",
       "5           0.0         NaN   \n",
       "0           NaN         NaN   \n",
       "\n",
       "                                               model  accuracy  precision  \\\n",
       "0  LogisticRegression(class_weight='balanced', ma...  0.977704   0.070796   \n",
       "1                   SVC(class_weight={0: 1, 1: 100})  0.998420   0.556338   \n",
       "2                       SVC(class_weight='balanced')  0.996840   0.341880   \n",
       "3  RandomForestClassifier(class_weight='balanced'...  0.999421   0.929412   \n",
       "4  XGBClassifier(base_score=0.5, booster='gbtree'...  0.999491   0.942529   \n",
       "5                                        autoencoder  0.167234   0.001600   \n",
       "0                                      deepLearninig  0.999101   0.752000   \n",
       "\n",
       "     recall  f1_score         ROC  \n",
       "0  0.905660  0.131327    0.638492  \n",
       "1  0.745283  0.637097    0.500053  \n",
       "2  0.754717  0.470588    0.500053  \n",
       "3  0.745283  0.827225         NaN  \n",
       "4  0.773585  0.849741         NaN  \n",
       "5  0.760000  0.003194  141.000000  \n",
       "0  0.740157  0.746032         NaN  "
      ]
     },
     "execution_count": 31,
     "metadata": {},
     "output_type": "execute_result"
    }
   ],
   "source": [
    "df_all.head(7)"
   ]
  },
  {
   "cell_type": "code",
   "execution_count": 27,
   "metadata": {},
   "outputs": [
    {
     "data": {
      "text/plain": [
       "[118,\n",
       " 934,\n",
       " 2034,\n",
       " 2109,\n",
       " 2218,\n",
       " 3274,\n",
       " 6664,\n",
       " 6741,\n",
       " 6804,\n",
       " 7261,\n",
       " 7551,\n",
       " 7552,\n",
       " 7694,\n",
       " 7837,\n",
       " 7941,\n",
       " 8033,\n",
       " 8791,\n",
       " 9206,\n",
       " 9512,\n",
       " 9560,\n",
       " 9869,\n",
       " 10415,\n",
       " 10469,\n",
       " 10964,\n",
       " 11411,\n",
       " 11640,\n",
       " 11699,\n",
       " 12361,\n",
       " 12548,\n",
       " 12705,\n",
       " 13984,\n",
       " 14211,\n",
       " 14559,\n",
       " 14702,\n",
       " 15328,\n",
       " 15337,\n",
       " 15355,\n",
       " 15764,\n",
       " 16165,\n",
       " 18539,\n",
       " 18753,\n",
       " 19022,\n",
       " 20244,\n",
       " 20331,\n",
       " 20526,\n",
       " 21098,\n",
       " 23020,\n",
       " 25156,\n",
       " 25231,\n",
       " 25324,\n",
       " 25732,\n",
       " 26437,\n",
       " 27161,\n",
       " 27587,\n",
       " 27728,\n",
       " 27850,\n",
       " 27880,\n",
       " 28205,\n",
       " 29067,\n",
       " 30780,\n",
       " 31439,\n",
       " 31903,\n",
       " 32117,\n",
       " 32201,\n",
       " 32291,\n",
       " 34023,\n",
       " 34122,\n",
       " 34193,\n",
       " 34503,\n",
       " 35052,\n",
       " 37802,\n",
       " 38001,\n",
       " 38054,\n",
       " 38229,\n",
       " 39327,\n",
       " 40887,\n",
       " 40962,\n",
       " 42411,\n",
       " 43038,\n",
       " 43842,\n",
       " 44491,\n",
       " 45369,\n",
       " 45607,\n",
       " 46543,\n",
       " 46868,\n",
       " 47336,\n",
       " 47544,\n",
       " 47757,\n",
       " 48599,\n",
       " 50196,\n",
       " 50417,\n",
       " 50434,\n",
       " 51020,\n",
       " 52241,\n",
       " 54026,\n",
       " 54124,\n",
       " 54143,\n",
       " 54858,\n",
       " 55527,\n",
       " 56033,\n",
       " 56216,\n",
       " 56534,\n",
       " 57533,\n",
       " 57702,\n",
       " 58304,\n",
       " 58341,\n",
       " 58576,\n",
       " 59361,\n",
       " 59955,\n",
       " 60751,\n",
       " 60794,\n",
       " 61888,\n",
       " 62004,\n",
       " 62157,\n",
       " 62914,\n",
       " 63230,\n",
       " 63371,\n",
       " 63849,\n",
       " 63942,\n",
       " 65899,\n",
       " 67146,\n",
       " 69121,\n",
       " 69577,\n",
       " 69810,\n",
       " 71130]"
      ]
     },
     "execution_count": 27,
     "metadata": {},
     "output_type": "execute_result"
    }
   ],
   "source": [
    "# display all true value's index\n",
    "[i for i, x in enumerate(p) if x]"
   ]
  },
  {
   "cell_type": "code",
   "execution_count": 28,
   "metadata": {},
   "outputs": [
    {
     "name": "stdout",
     "output_type": "stream",
     "text": [
      "True in train and test labels 0.0017087614990285809 0.0017836577624224038\n"
     ]
    }
   ],
   "source": [
    "#new = tf.keras.models.load_model('../model/model_v1.h5')\n",
    "#new.summary()\n",
    "\n",
    "train_true = [i for i, x in enumerate(train_labels) if x]\n",
    "\n",
    "test_true = [i for i, x in enumerate(test_labels) if x]\n",
    "\n",
    "print(\"True in train and test labels\", len(train_true)/len(train_labels), len(test_true)/len(test_labels))"
   ]
  },
  {
   "cell_type": "code",
   "execution_count": null,
   "metadata": {},
   "outputs": [],
   "source": []
  }
 ],
 "metadata": {
  "kernelspec": {
   "display_name": "Python 3.9.13 ('anomaly')",
   "language": "python",
   "name": "python3"
  },
  "language_info": {
   "codemirror_mode": {
    "name": "ipython",
    "version": 3
   },
   "file_extension": ".py",
   "mimetype": "text/x-python",
   "name": "python",
   "nbconvert_exporter": "python",
   "pygments_lexer": "ipython3",
   "version": "3.9.13"
  },
  "orig_nbformat": 4,
  "vscode": {
   "interpreter": {
    "hash": "398cd56811f9a82a260dab094c64fd50f393d31ec7b55cfe6152d79bfbea3cbd"
   }
  }
 },
 "nbformat": 4,
 "nbformat_minor": 2
}
