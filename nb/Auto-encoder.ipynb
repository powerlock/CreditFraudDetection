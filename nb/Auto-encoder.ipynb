{
 "cells": [
  {
   "cell_type": "code",
   "execution_count": 3,
   "metadata": {},
   "outputs": [
    {
     "name": "stderr",
     "output_type": "stream",
     "text": [
      "2022-10-07 17:11:39.489203: I tensorflow/core/platform/cpu_feature_guard.cc:193] This TensorFlow binary is optimized with oneAPI Deep Neural Network Library (oneDNN) to use the following CPU instructions in performance-critical operations:  AVX2 FMA\n",
      "To enable them in other operations, rebuild TensorFlow with the appropriate compiler flags.\n"
     ]
    }
   ],
   "source": [
    "import matplotlib.pyplot as plt\n",
    "import datetime\n",
    "import numpy as np\n",
    "import pandas as pd\n",
    "import tensorflow as tf\n",
    "from sklearn.preprocessing import StandardScaler, MinMaxScaler\n",
    "from sklearn.metrics import accuracy_score, precision_score, recall_score\n",
    "from sklearn.model_selection import train_test_split\n",
    "from tensorflow.keras import layers, losses\n",
    "from tensorflow.keras.models import Model"
   ]
  },
  {
   "cell_type": "code",
   "execution_count": 4,
   "metadata": {},
   "outputs": [],
   "source": [
    "# load file\n",
    "filepath = \"../Data/creditcard.csv\"\n",
    "df = pd.read_csv(filepath)"
   ]
  },
  {
   "cell_type": "code",
   "execution_count": 5,
   "metadata": {},
   "outputs": [],
   "source": [
    "# identify X features, and y class\n",
    "# Those data have been used froom creditCard notbook, EDA\n",
    "X = df.drop(['Class'], axis=1)\n",
    "y = df['Class']\n",
    "X_train, X_test, y_train, y_test = train_test_split(X,y, test_size=0.15, random_state = 42)"
   ]
  },
  {
   "cell_type": "code",
   "execution_count": 6,
   "metadata": {},
   "outputs": [],
   "source": [
    "# Normalize data, scale to [0,1]\n",
    "#train_data = StandardScaler().fit_transform(X_train)\n",
    "#test_data = StandardScaler().fit_transform(X_test)\n",
    "train_data = MinMaxScaler().fit_transform(X_train)\n",
    "test_data = MinMaxScaler().fit_transform(X_test)\n",
    "train_labels = y_train\n",
    "test_labels = y_test"
   ]
  },
  {
   "cell_type": "code",
   "execution_count": null,
   "metadata": {},
   "outputs": [],
   "source": []
  },
  {
   "cell_type": "code",
   "execution_count": 7,
   "metadata": {},
   "outputs": [],
   "source": [
    "train_labels = train_labels.astype(bool)\n",
    "test_labels = test_labels.astype(bool)\n",
    "\n",
    "normal_train_data = train_data[train_labels]\n",
    "normal_test_data = test_data[test_labels]\n",
    "\n",
    "anomalous_train_data = train_data[~train_labels]\n",
    "anomalous_test_data = test_data[~test_labels]"
   ]
  },
  {
   "cell_type": "code",
   "execution_count": 8,
   "metadata": {},
   "outputs": [
    {
     "name": "stderr",
     "output_type": "stream",
     "text": [
      "2022-10-07 17:11:52.304664: I tensorflow/core/platform/cpu_feature_guard.cc:193] This TensorFlow binary is optimized with oneAPI Deep Neural Network Library (oneDNN) to use the following CPU instructions in performance-critical operations:  AVX2 FMA\n",
      "To enable them in other operations, rebuild TensorFlow with the appropriate compiler flags.\n"
     ]
    }
   ],
   "source": [
    "# Auto encoder with keras dense layers\n",
    "class AnomalyDetector(Model):\n",
    "  def __init__(self):\n",
    "    super(AnomalyDetector, self).__init__()\n",
    "    self.encoder = tf.keras.Sequential([\n",
    "      layers.Dense(32, activation=\"tanh\"),\n",
    "      layers.Dropout(0.35),\n",
    "      layers.Dense(16, activation=\"tanh\"),\n",
    "      layers.Dense(8, activation=\"tanh\")])\n",
    "    \n",
    "    self.decoder = tf.keras.Sequential([\n",
    "      layers.Dense(16, activation=\"tanh\"),\n",
    "      layers.Dropout(0.35),\n",
    "      layers.Dense(32, activation=\"tanh\"),\n",
    "      layers.Dense(30, activation=\"sigmoid\")])\n",
    "    \n",
    "  def call(self, x):\n",
    "    encoded = self.encoder(x)\n",
    "    decoded = self.decoder(encoded)\n",
    "    return decoded\n",
    "\n",
    "autoencoder = AnomalyDetector()"
   ]
  },
  {
   "cell_type": "code",
   "execution_count": 9,
   "metadata": {},
   "outputs": [],
   "source": [
    "# second method to keras sequential model build\n",
    "encoder = tf.keras.models.Sequential([tf.keras.layers.Reshape(([30,1,1]),input_shape=[30]),\n",
    "    layers.Conv2D(32,kernel_size=(3,3), padding='same', activation='tanh'),\n",
    "    layers.Dropout(0.1),\n",
    "      layers.Dense(32, activation=\"tanh\"),\n",
    "      layers.Dense(16, activation=\"tanh\"),\n",
    "      layers.Dense(8, activation=\"tanh\")])\n",
    "\n",
    "decoder = tf.keras.models.Sequential([\n",
    "      layers.Dense(16, activation=\"tanh\"),\n",
    "      layers.Dense(32, activation=\"tanh\"),\n",
    "      layers.Dropout(0.1),\n",
    "      layers.Conv2DTranspose(32,kernel_size=(3,3), padding='same', activation='tanh'),\n",
    "      layers.Dense(1, activation=\"sigmoid\"),\n",
    "      tf.keras.layers.Reshape([1,30])])\n",
    "\n",
    "autoencoder2 = tf.keras.models.Sequential([encoder,decoder])"
   ]
  },
  {
   "cell_type": "code",
   "execution_count": 10,
   "metadata": {},
   "outputs": [],
   "source": [
    "opt = tf.keras.optimizers.Adam(learning_rate=0.001)\n",
    "autoencoder.compile(loss='binary_crossentropy', optimizer=opt)\n",
    "autoencoder2.compile(loss='binary_crossentropy', optimizer=opt)"
   ]
  },
  {
   "cell_type": "code",
   "execution_count": 11,
   "metadata": {},
   "outputs": [
    {
     "name": "stdout",
     "output_type": "stream",
     "text": [
      "Epoch 1/30\n",
      "8/8 [==============================] - 4s 445ms/step - loss: 0.6906 - val_loss: 0.6953\n",
      "Epoch 2/30\n",
      "8/8 [==============================] - 2s 319ms/step - loss: 0.6725 - val_loss: 0.6927\n",
      "Epoch 3/30\n",
      "8/8 [==============================] - 2s 348ms/step - loss: 0.6561 - val_loss: 0.6916\n",
      "Epoch 4/30\n",
      "8/8 [==============================] - 2s 279ms/step - loss: 0.6429 - val_loss: 0.6908\n",
      "Epoch 5/30\n",
      "8/8 [==============================] - 2s 319ms/step - loss: 0.6318 - val_loss: 0.6917\n",
      "Epoch 6/30\n",
      "8/8 [==============================] - 2s 267ms/step - loss: 0.6255 - val_loss: 0.6911\n",
      "Epoch 7/30\n",
      "8/8 [==============================] - 2s 262ms/step - loss: 0.6219 - val_loss: 0.6898\n",
      "Epoch 8/30\n",
      "8/8 [==============================] - 2s 228ms/step - loss: 0.6192 - val_loss: 0.6883\n",
      "Epoch 9/30\n",
      "8/8 [==============================] - 1s 210ms/step - loss: 0.6169 - val_loss: 0.6865\n",
      "Epoch 10/30\n",
      "8/8 [==============================] - 2s 252ms/step - loss: 0.6159 - val_loss: 0.6821\n",
      "Epoch 11/30\n",
      "8/8 [==============================] - 2s 245ms/step - loss: 0.6153 - val_loss: 0.6817\n",
      "Epoch 12/30\n",
      "8/8 [==============================] - 2s 215ms/step - loss: 0.6147 - val_loss: 0.6824\n",
      "Epoch 13/30\n",
      "8/8 [==============================] - 1s 201ms/step - loss: 0.6139 - val_loss: 0.6813\n",
      "Epoch 14/30\n",
      "8/8 [==============================] - 1s 212ms/step - loss: 0.6141 - val_loss: 0.6798\n",
      "Epoch 15/30\n",
      "8/8 [==============================] - 1s 194ms/step - loss: 0.6131 - val_loss: 0.6794\n",
      "Epoch 16/30\n",
      "8/8 [==============================] - 1s 182ms/step - loss: 0.6123 - val_loss: 0.6803\n",
      "Epoch 17/30\n",
      "8/8 [==============================] - 1s 178ms/step - loss: 0.6122 - val_loss: 0.6791\n",
      "Epoch 18/30\n",
      "8/8 [==============================] - 1s 170ms/step - loss: 0.6121 - val_loss: 0.6783\n",
      "Epoch 19/30\n",
      "8/8 [==============================] - 1s 169ms/step - loss: 0.6116 - val_loss: 0.6776\n",
      "Epoch 20/30\n",
      "8/8 [==============================] - 1s 167ms/step - loss: 0.6109 - val_loss: 0.6756\n",
      "Epoch 21/30\n",
      "8/8 [==============================] - 1s 160ms/step - loss: 0.6098 - val_loss: 0.6738\n",
      "Epoch 22/30\n",
      "8/8 [==============================] - 1s 154ms/step - loss: 0.6093 - val_loss: 0.6715\n",
      "Epoch 23/30\n",
      "8/8 [==============================] - 1s 152ms/step - loss: 0.6080 - val_loss: 0.6697\n",
      "Epoch 24/30\n",
      "8/8 [==============================] - 1s 151ms/step - loss: 0.6067 - val_loss: 0.6650\n",
      "Epoch 25/30\n",
      "8/8 [==============================] - 1s 149ms/step - loss: 0.6056 - val_loss: 0.6624\n",
      "Epoch 26/30\n",
      "8/8 [==============================] - 1s 139ms/step - loss: 0.6041 - val_loss: 0.6590\n",
      "Epoch 27/30\n",
      "8/8 [==============================] - 1s 135ms/step - loss: 0.6031 - val_loss: 0.6572\n",
      "Epoch 28/30\n",
      "8/8 [==============================] - 1s 133ms/step - loss: 0.6020 - val_loss: 0.6570\n",
      "Epoch 29/30\n",
      "8/8 [==============================] - 1s 130ms/step - loss: 0.6016 - val_loss: 0.6552\n",
      "Epoch 30/30\n",
      "8/8 [==============================] - 1s 125ms/step - loss: 0.6001 - val_loss: 0.6542\n"
     ]
    }
   ],
   "source": [
    "# train the data\n",
    "from gc import callbacks\n",
    "\n",
    "\n",
    "log_dir = \"logs/fit1/\" + datetime.datetime.now().strftime(\"%Y%m%d-%H%M%S\")\n",
    "tensorboard_callback = tf.keras.callbacks.TensorBoard(log_dir=log_dir, histogram_freq=1)\n",
    "history = autoencoder.fit(normal_train_data, normal_train_data, \n",
    "          epochs=30, \n",
    "          batch_size=52,\n",
    "          validation_data=(test_data, test_data),\n",
    "          shuffle=True, callbacks=[tensorboard_callback])"
   ]
  },
  {
   "cell_type": "code",
   "execution_count": null,
   "metadata": {},
   "outputs": [],
   "source": [
    "print('Dense layer training result')\n",
    "plt.plot(history.history[\"loss\"], label=\"Training Loss\")\n",
    "plt.plot(history.history[\"val_loss\"], label=\"Validation Loss\")\n",
    "plt.legend()\n",
    "plt.show()"
   ]
  },
  {
   "cell_type": "code",
   "execution_count": 12,
   "metadata": {},
   "outputs": [
    {
     "name": "stdout",
     "output_type": "stream",
     "text": [
      "Epoch 1/20\n",
      "8/8 [==============================] - 6s 686ms/step - loss: 0.6792 - val_loss: 0.6489\n",
      "Epoch 2/20\n",
      "8/8 [==============================] - 4s 618ms/step - loss: 0.6460 - val_loss: 0.6340\n",
      "Epoch 3/20\n",
      "8/8 [==============================] - 4s 603ms/step - loss: 0.6384 - val_loss: 0.6302\n",
      "Epoch 4/20\n",
      "8/8 [==============================] - 4s 541ms/step - loss: 0.6357 - val_loss: 0.6272\n",
      "Epoch 5/20\n",
      "8/8 [==============================] - 4s 528ms/step - loss: 0.6342 - val_loss: 0.6268\n",
      "Epoch 6/20\n",
      "8/8 [==============================] - 4s 515ms/step - loss: 0.6331 - val_loss: 0.6241\n",
      "Epoch 7/20\n",
      "8/8 [==============================] - 4s 505ms/step - loss: 0.6323 - val_loss: 0.6243\n",
      "Epoch 8/20\n",
      "8/8 [==============================] - 4s 504ms/step - loss: 0.6316 - val_loss: 0.6231\n",
      "Epoch 9/20\n",
      "8/8 [==============================] - 4s 525ms/step - loss: 0.6310 - val_loss: 0.6229\n",
      "Epoch 10/20\n",
      "8/8 [==============================] - 4s 548ms/step - loss: 0.6303 - val_loss: 0.6228\n",
      "Epoch 11/20\n",
      "8/8 [==============================] - 4s 569ms/step - loss: 0.6301 - val_loss: 0.6218\n",
      "Epoch 12/20\n",
      "8/8 [==============================] - 4s 551ms/step - loss: 0.6292 - val_loss: 0.6214\n",
      "Epoch 13/20\n",
      "8/8 [==============================] - 4s 578ms/step - loss: 0.6292 - val_loss: 0.6213\n",
      "Epoch 14/20\n",
      "8/8 [==============================] - 4s 585ms/step - loss: 0.6292 - val_loss: 0.6216\n",
      "Epoch 15/20\n",
      "8/8 [==============================] - 4s 581ms/step - loss: 0.6288 - val_loss: 0.6211\n",
      "Epoch 16/20\n",
      "8/8 [==============================] - 4s 584ms/step - loss: 0.6290 - val_loss: 0.6207\n",
      "Epoch 17/20\n",
      "8/8 [==============================] - 4s 567ms/step - loss: 0.6285 - val_loss: 0.6209\n",
      "Epoch 18/20\n",
      "8/8 [==============================] - 4s 574ms/step - loss: 0.6283 - val_loss: 0.6211\n",
      "Epoch 19/20\n",
      "8/8 [==============================] - 4s 590ms/step - loss: 0.6287 - val_loss: 0.6209\n",
      "Epoch 20/20\n",
      "8/8 [==============================] - 4s 570ms/step - loss: 0.6281 - val_loss: 0.6206\n"
     ]
    }
   ],
   "source": [
    "log_dir2 = \"logs/fit2/\" + datetime.datetime.now().strftime(\"%Y%m%d-%H%M%S\")\n",
    "tensorboard_callback2 = tf.keras.callbacks.TensorBoard(log_dir=log_dir2, histogram_freq=1)\n",
    "history2 = autoencoder2.fit(normal_train_data, normal_train_data, \n",
    "          epochs=20, \n",
    "          batch_size=52,\n",
    "          validation_data=(test_data, test_data),\n",
    "          shuffle=True, callbacks=[tensorboard_callback2])"
   ]
  },
  {
   "cell_type": "code",
   "execution_count": 13,
   "metadata": {},
   "outputs": [
    {
     "name": "stdout",
     "output_type": "stream",
     "text": [
      "Dense layer training result\n"
     ]
    },
    {
     "data": {
      "image/png": "[encoded data removed]",
      "text/plain": [
       "<Figure size 640x480 with 1 Axes>"
      ]
     },
     "metadata": {},
     "output_type": "display_data"
    },
    {
     "name": "stdout",
     "output_type": "stream",
     "text": [
      "Conv2D layer training result\n"
     ]
    },
    {
     "data": {
      "image/png": "[encoded data removed]",
      "text/plain": [
       "<Figure size 640x480 with 1 Axes>"
      ]
     },
     "metadata": {},
     "output_type": "display_data"
    }
   ],
   "source": [
    "\n",
    "\n",
    "print('Conv2D layer training result')\n",
    "plt.plot(history2.history[\"loss\"], label=\"Training Loss\")\n",
    "plt.plot(history2.history[\"val_loss\"], label=\"Validation Loss\")\n",
    "plt.legend()\n",
    "plt.show()"
   ]
  },
  {
   "cell_type": "code",
   "execution_count": 14,
   "metadata": {},
   "outputs": [
    {
     "name": "stdout",
     "output_type": "stream",
     "text": [
      "13/13 [==============================] - 0s 1ms/step\n",
      "13/13 [==============================] - 0s 3ms/step\n"
     ]
    },
    {
     "data": {
      "image/png": "[encoded data removed]",
      "text/plain": [
       "<Figure size 640x480 with 1 Axes>"
      ]
     },
     "metadata": {},
     "output_type": "display_data"
    }
   ],
   "source": [
    "# plot the reconstuct error vs normal \n",
    "reconstructions = autoencoder.predict(normal_train_data)\n",
    "train_loss = tf.keras.losses.mae(reconstructions, normal_train_data)\n",
    "\n",
    "reconstructions2 = autoencoder2.predict(normal_train_data)\n",
    "train_loss2 = tf.keras.losses.mae(reconstructions2, normal_train_data)\n",
    "plt.hist(train_loss[None,:], bins=50)\n",
    "plt.xlabel(\"Train loss\")\n",
    "plt.ylabel(\"No of examples\")\n",
    "plt.show()"
   ]
  },
  {
   "cell_type": "code",
   "execution_count": 15,
   "metadata": {},
   "outputs": [
    {
     "name": "stdout",
     "output_type": "stream",
     "text": [
      "Threshold:  0.06940157847401066\n",
      "Threshold:  0.1303653462680316\n"
     ]
    }
   ],
   "source": [
    "threshold = np.mean(train_loss) + np.std(train_loss)\n",
    "print(\"Threshold: \", threshold)\n",
    "\n",
    "threshold2 = np.mean(train_loss2) + np.std(train_loss2)\n",
    "print(\"Threshold: \", threshold2)"
   ]
  },
  {
   "cell_type": "code",
   "execution_count": 16,
   "metadata": {},
   "outputs": [],
   "source": [
    "def predict(model, data, threshold):\n",
    "  reconstructions = model(data)\n",
    "  loss = tf.keras.losses.binary_crossentropy(reconstructions, data)\n",
    "  return tf.math.less(loss, threshold)\n",
    "\n",
    "def print_stats(predictions, labels):\n",
    "  print(\"Accuracy = {}\".format(accuracy_score(labels, predictions)))\n",
    "  print(\"Precision = {}\".format(precision_score(labels, predictions)))\n",
    "  print(\"Recall = {}\".format(recall_score(labels, predictions)))"
   ]
  },
  {
   "cell_type": "code",
   "execution_count": 17,
   "metadata": {},
   "outputs": [
    {
     "name": "stdout",
     "output_type": "stream",
     "text": [
      "Accuracy = 0.998139110284049\n",
      "Precision = 0.0\n",
      "Recall = 0.0\n"
     ]
    },
    {
     "name": "stderr",
     "output_type": "stream",
     "text": [
      "/Users/michael/opt/anaconda3/envs/anomaly/lib/python3.9/site-packages/sklearn/metrics/_classification.py:1334: UndefinedMetricWarning: Precision is ill-defined and being set to 0.0 due to no predicted samples. Use `zero_division` parameter to control this behavior.\n",
      "  _warn_prf(average, modifier, msg_start, len(result))\n"
     ]
    },
    {
     "ename": "",
     "evalue": "",
     "output_type": "error",
     "traceback": [
      "\u001b[1;31mCanceled future for execute_request message before replies were done"
     ]
    },
    {
     "ename": "",
     "evalue": "",
     "output_type": "error",
     "traceback": [
      "\u001b[1;31mThe Kernel crashed while executing code in the the current cell or a previous cell. Please review the code in the cell(s) to identify a possible cause of the failure. Click <a href='https://aka.ms/vscodeJupyterKernelCrash'>here</a> for more info. View Jupyter <a href='command:jupyter.viewOutput'>log</a> for further details."
     ]
    }
   ],
   "source": [
    "preds = predict(autoencoder, test_data, threshold)\n",
    "print_stats(preds, test_labels)\n",
    "\n"
   ]
  },
  {
   "cell_type": "code",
   "execution_count": null,
   "metadata": {},
   "outputs": [
    {
     "name": "stdout",
     "output_type": "stream",
     "text": [
      "Dense layer only confusion matrix\n"
     ]
    },
    {
     "data": {
      "text/plain": [
       "<tf.Tensor: shape=(2, 2), dtype=int32, numpy=\n",
       "array([[56856,     0],\n",
       "       [  106,     0]], dtype=int32)>"
      ]
     },
     "execution_count": 16,
     "metadata": {},
     "output_type": "execute_result"
    }
   ],
   "source": [
    "print(\"Dense layer only confusion matrix\")\n",
    "tf.math.confusion_matrix(\n",
    "    test_labels,\n",
    "    preds,\n",
    "    num_classes=None,\n",
    "    weights=None,\n",
    "    dtype=tf.dtypes.int32,\n",
    "    name=None\n",
    ")"
   ]
  },
  {
   "cell_type": "code",
   "execution_count": null,
   "metadata": {},
   "outputs": [],
   "source": [
    "preds2 = predict(autoencoder2, test_data, threshold2)\n",
    "print_stats(preds2, test_labels)"
   ]
  },
  {
   "cell_type": "code",
   "execution_count": null,
   "metadata": {},
   "outputs": [
    {
     "name": "stdout",
     "output_type": "stream",
     "text": [
      "Conv2D layer only confusion matrix\n"
     ]
    },
    {
     "data": {
      "text/plain": [
       "<tf.Tensor: shape=(2, 2), dtype=int32, numpy=\n",
       "array([[56856,     0],\n",
       "       [  106,     0]], dtype=int32)>"
      ]
     },
     "execution_count": 17,
     "metadata": {},
     "output_type": "execute_result"
    }
   ],
   "source": [
    "print(\"Conv2D layer only confusion matrix\")\n",
    "tf.math.confusion_matrix(\n",
    "    test_labels,\n",
    "    preds2,\n",
    "    num_classes=None,\n",
    "    weights=None,\n",
    "    dtype=tf.dtypes.int32,\n",
    "    name=None\n",
    ")"
   ]
  },
  {
   "cell_type": "code",
   "execution_count": null,
   "metadata": {},
   "outputs": [],
   "source": [
    "%load_ext tensorboard"
   ]
  }
 ],
 "metadata": {
  "kernelspec": {
   "display_name": "Python 3.9.13 ('anomaly')",
   "language": "python",
   "name": "python3"
  },
  "language_info": {
   "codemirror_mode": {
    "name": "ipython",
    "version": 3
   },
   "file_extension": ".py",
   "mimetype": "text/x-python",
   "name": "python",
   "nbconvert_exporter": "python",
   "pygments_lexer": "ipython3",
   "version": "3.9.13"
  },
  "orig_nbformat": 4,
  "vscode": {
   "interpreter": {
    "hash": "398cd56811f9a82a260dab094c64fd50f393d31ec7b55cfe6152d79bfbea3cbd"
   }
  }
 },
 "nbformat": 4,
 "nbformat_minor": 2
}
