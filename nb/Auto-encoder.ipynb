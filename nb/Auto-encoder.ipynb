{
 "cells": [
  {
   "cell_type": "code",
   "execution_count": 2,
   "metadata": {},
   "outputs": [
    {
     "name": "stderr",
     "output_type": "stream",
     "text": [
      "2022-10-07 22:09:51.535039: I tensorflow/core/platform/cpu_feature_guard.cc:193] This TensorFlow binary is optimized with oneAPI Deep Neural Network Library (oneDNN) to use the following CPU instructions in performance-critical operations:  AVX2 FMA\n",
      "To enable them in other operations, rebuild TensorFlow with the appropriate compiler flags.\n"
     ]
    }
   ],
   "source": [
    "import matplotlib.pyplot as plt\n",
    "import datetime\n",
    "import numpy as np\n",
    "import pandas as pd\n",
    "import tensorflow as tf\n",
    "from sklearn.preprocessing import StandardScaler, MinMaxScaler\n",
    "from sklearn.metrics import accuracy_score, precision_score, recall_score\n",
    "from sklearn.model_selection import train_test_split\n",
    "from tensorflow.keras import layers, losses\n",
    "from tensorflow.keras.models import Model"
   ]
  },
  {
   "cell_type": "code",
   "execution_count": 3,
   "metadata": {},
   "outputs": [],
   "source": [
    "# load file\n",
    "filepath = \"../Data/creditcard.csv\"\n",
    "df = pd.read_csv(filepath)"
   ]
  },
  {
   "cell_type": "code",
   "execution_count": 4,
   "metadata": {},
   "outputs": [],
   "source": [
    "# identify X features, and y class\n",
    "# Those data have been used froom creditCard notbook, EDA\n",
    "X = df.drop(['Class','Time','Amount'], axis=1)\n",
    "y = df['Class']\n",
    "X_train, X_test, y_train, y_test = train_test_split(X,y, test_size=0.3, random_state = 43)"
   ]
  },
  {
   "cell_type": "code",
   "execution_count": 5,
   "metadata": {},
   "outputs": [
    {
     "name": "stderr",
     "output_type": "stream",
     "text": [
      "/var/folders/0z/5dyhp7xx5g700b6sqbzkl_fw0000gn/T/ipykernel_1595/140339194.py:4: UserWarning: Boolean Series key will be reindexed to match DataFrame index.\n",
      "  fraud[temp]\n"
     ]
    },
    {
     "data": {
      "text/html": [
       "<div>\n",
       "<style scoped>\n",
       "    .dataframe tbody tr th:only-of-type {\n",
       "        vertical-align: middle;\n",
       "    }\n",
       "\n",
       "    .dataframe tbody tr th {\n",
       "        vertical-align: top;\n",
       "    }\n",
       "\n",
       "    .dataframe thead th {\n",
       "        text-align: right;\n",
       "    }\n",
       "</style>\n",
       "<table border=\"1\" class=\"dataframe\">\n",
       "  <thead>\n",
       "    <tr style=\"text-align: right;\">\n",
       "      <th></th>\n",
       "      <th>Time</th>\n",
       "      <th>V1</th>\n",
       "      <th>V2</th>\n",
       "      <th>V3</th>\n",
       "      <th>V4</th>\n",
       "      <th>V5</th>\n",
       "      <th>V6</th>\n",
       "      <th>V7</th>\n",
       "      <th>V8</th>\n",
       "      <th>V9</th>\n",
       "      <th>...</th>\n",
       "      <th>V21</th>\n",
       "      <th>V22</th>\n",
       "      <th>V23</th>\n",
       "      <th>V24</th>\n",
       "      <th>V25</th>\n",
       "      <th>V26</th>\n",
       "      <th>V27</th>\n",
       "      <th>V28</th>\n",
       "      <th>Amount</th>\n",
       "      <th>Class</th>\n",
       "    </tr>\n",
       "  </thead>\n",
       "  <tbody>\n",
       "    <tr>\n",
       "      <th>6971</th>\n",
       "      <td>9064.0</td>\n",
       "      <td>-3.499108</td>\n",
       "      <td>0.258555</td>\n",
       "      <td>-4.489558</td>\n",
       "      <td>4.853894</td>\n",
       "      <td>-6.974522</td>\n",
       "      <td>3.628382</td>\n",
       "      <td>5.431271</td>\n",
       "      <td>-1.946734</td>\n",
       "      <td>-0.775680</td>\n",
       "      <td>...</td>\n",
       "      <td>-1.052368</td>\n",
       "      <td>0.204817</td>\n",
       "      <td>-2.119007</td>\n",
       "      <td>0.170279</td>\n",
       "      <td>-0.393844</td>\n",
       "      <td>0.296367</td>\n",
       "      <td>1.985913</td>\n",
       "      <td>-0.900452</td>\n",
       "      <td>1809.68</td>\n",
       "      <td>1</td>\n",
       "    </tr>\n",
       "    <tr>\n",
       "      <th>10690</th>\n",
       "      <td>18088.0</td>\n",
       "      <td>-12.224021</td>\n",
       "      <td>3.854150</td>\n",
       "      <td>-12.466766</td>\n",
       "      <td>9.648311</td>\n",
       "      <td>-2.726961</td>\n",
       "      <td>-4.445610</td>\n",
       "      <td>-21.922811</td>\n",
       "      <td>0.320792</td>\n",
       "      <td>-4.433162</td>\n",
       "      <td>...</td>\n",
       "      <td>-1.159830</td>\n",
       "      <td>-1.504119</td>\n",
       "      <td>-19.254328</td>\n",
       "      <td>0.544867</td>\n",
       "      <td>-4.781606</td>\n",
       "      <td>-0.007772</td>\n",
       "      <td>3.052358</td>\n",
       "      <td>-0.775036</td>\n",
       "      <td>1218.89</td>\n",
       "      <td>1</td>\n",
       "    </tr>\n",
       "    <tr>\n",
       "      <th>81609</th>\n",
       "      <td>59011.0</td>\n",
       "      <td>-2.326922</td>\n",
       "      <td>-3.348439</td>\n",
       "      <td>-3.513408</td>\n",
       "      <td>3.175060</td>\n",
       "      <td>-2.815137</td>\n",
       "      <td>-0.203363</td>\n",
       "      <td>-0.892144</td>\n",
       "      <td>0.333226</td>\n",
       "      <td>-0.802005</td>\n",
       "      <td>...</td>\n",
       "      <td>1.226648</td>\n",
       "      <td>-0.695902</td>\n",
       "      <td>-1.478490</td>\n",
       "      <td>-0.061553</td>\n",
       "      <td>0.236155</td>\n",
       "      <td>0.531911</td>\n",
       "      <td>0.302324</td>\n",
       "      <td>0.536375</td>\n",
       "      <td>1389.56</td>\n",
       "      <td>1</td>\n",
       "    </tr>\n",
       "    <tr>\n",
       "      <th>89190</th>\n",
       "      <td>62467.0</td>\n",
       "      <td>-5.344665</td>\n",
       "      <td>-0.285760</td>\n",
       "      <td>-3.835616</td>\n",
       "      <td>5.337048</td>\n",
       "      <td>-7.609909</td>\n",
       "      <td>3.874668</td>\n",
       "      <td>1.289630</td>\n",
       "      <td>0.201742</td>\n",
       "      <td>-3.003532</td>\n",
       "      <td>...</td>\n",
       "      <td>0.276011</td>\n",
       "      <td>1.342045</td>\n",
       "      <td>-1.016579</td>\n",
       "      <td>-0.071361</td>\n",
       "      <td>-0.335869</td>\n",
       "      <td>0.441044</td>\n",
       "      <td>1.520613</td>\n",
       "      <td>-1.115937</td>\n",
       "      <td>1402.16</td>\n",
       "      <td>1</td>\n",
       "    </tr>\n",
       "    <tr>\n",
       "      <th>95597</th>\n",
       "      <td>65385.0</td>\n",
       "      <td>-2.923827</td>\n",
       "      <td>1.524837</td>\n",
       "      <td>-3.018758</td>\n",
       "      <td>3.289291</td>\n",
       "      <td>-5.755542</td>\n",
       "      <td>2.218276</td>\n",
       "      <td>-0.509995</td>\n",
       "      <td>-3.569444</td>\n",
       "      <td>-1.016592</td>\n",
       "      <td>...</td>\n",
       "      <td>-0.511657</td>\n",
       "      <td>-0.122724</td>\n",
       "      <td>-4.288639</td>\n",
       "      <td>0.563797</td>\n",
       "      <td>-0.949451</td>\n",
       "      <td>-0.204532</td>\n",
       "      <td>1.510206</td>\n",
       "      <td>-0.324706</td>\n",
       "      <td>1354.25</td>\n",
       "      <td>1</td>\n",
       "    </tr>\n",
       "    <tr>\n",
       "      <th>176049</th>\n",
       "      <td>122608.0</td>\n",
       "      <td>-2.003460</td>\n",
       "      <td>-7.159042</td>\n",
       "      <td>-4.050976</td>\n",
       "      <td>1.309580</td>\n",
       "      <td>-2.058102</td>\n",
       "      <td>-0.098621</td>\n",
       "      <td>2.880083</td>\n",
       "      <td>-0.727484</td>\n",
       "      <td>1.460381</td>\n",
       "      <td>...</td>\n",
       "      <td>1.244287</td>\n",
       "      <td>-1.015232</td>\n",
       "      <td>-1.800985</td>\n",
       "      <td>0.657586</td>\n",
       "      <td>-0.435617</td>\n",
       "      <td>-0.894509</td>\n",
       "      <td>-0.397557</td>\n",
       "      <td>0.314262</td>\n",
       "      <td>2125.87</td>\n",
       "      <td>1</td>\n",
       "    </tr>\n",
       "    <tr>\n",
       "      <th>199896</th>\n",
       "      <td>133184.0</td>\n",
       "      <td>-1.212682</td>\n",
       "      <td>-2.484824</td>\n",
       "      <td>-6.397186</td>\n",
       "      <td>3.670562</td>\n",
       "      <td>-0.863375</td>\n",
       "      <td>-1.855855</td>\n",
       "      <td>1.017732</td>\n",
       "      <td>-0.544704</td>\n",
       "      <td>-1.703378</td>\n",
       "      <td>...</td>\n",
       "      <td>1.396872</td>\n",
       "      <td>0.092073</td>\n",
       "      <td>-1.492882</td>\n",
       "      <td>-0.204227</td>\n",
       "      <td>0.532511</td>\n",
       "      <td>-0.293871</td>\n",
       "      <td>0.212663</td>\n",
       "      <td>0.431095</td>\n",
       "      <td>1335.00</td>\n",
       "      <td>1</td>\n",
       "    </tr>\n",
       "    <tr>\n",
       "      <th>249167</th>\n",
       "      <td>154278.0</td>\n",
       "      <td>-1.600211</td>\n",
       "      <td>-3.488130</td>\n",
       "      <td>-6.459303</td>\n",
       "      <td>3.246816</td>\n",
       "      <td>-1.614608</td>\n",
       "      <td>-1.260375</td>\n",
       "      <td>0.288223</td>\n",
       "      <td>-0.048964</td>\n",
       "      <td>-0.734975</td>\n",
       "      <td>...</td>\n",
       "      <td>1.191175</td>\n",
       "      <td>-0.967141</td>\n",
       "      <td>-1.463421</td>\n",
       "      <td>-0.624231</td>\n",
       "      <td>-0.176462</td>\n",
       "      <td>0.400348</td>\n",
       "      <td>0.152947</td>\n",
       "      <td>0.477775</td>\n",
       "      <td>1504.93</td>\n",
       "      <td>1</td>\n",
       "    </tr>\n",
       "    <tr>\n",
       "      <th>249239</th>\n",
       "      <td>154309.0</td>\n",
       "      <td>-0.082983</td>\n",
       "      <td>-3.935919</td>\n",
       "      <td>-2.616709</td>\n",
       "      <td>0.163310</td>\n",
       "      <td>-1.400952</td>\n",
       "      <td>-0.809419</td>\n",
       "      <td>1.501580</td>\n",
       "      <td>-0.471000</td>\n",
       "      <td>1.519743</td>\n",
       "      <td>...</td>\n",
       "      <td>0.702672</td>\n",
       "      <td>-0.182305</td>\n",
       "      <td>-0.921017</td>\n",
       "      <td>0.111635</td>\n",
       "      <td>-0.071622</td>\n",
       "      <td>-1.125881</td>\n",
       "      <td>-0.170947</td>\n",
       "      <td>0.126221</td>\n",
       "      <td>1096.99</td>\n",
       "      <td>1</td>\n",
       "    </tr>\n",
       "  </tbody>\n",
       "</table>\n",
       "<p>9 rows × 31 columns</p>\n",
       "</div>"
      ],
      "text/plain": [
       "            Time         V1        V2         V3        V4        V5  \\\n",
       "6971      9064.0  -3.499108  0.258555  -4.489558  4.853894 -6.974522   \n",
       "10690    18088.0 -12.224021  3.854150 -12.466766  9.648311 -2.726961   \n",
       "81609    59011.0  -2.326922 -3.348439  -3.513408  3.175060 -2.815137   \n",
       "89190    62467.0  -5.344665 -0.285760  -3.835616  5.337048 -7.609909   \n",
       "95597    65385.0  -2.923827  1.524837  -3.018758  3.289291 -5.755542   \n",
       "176049  122608.0  -2.003460 -7.159042  -4.050976  1.309580 -2.058102   \n",
       "199896  133184.0  -1.212682 -2.484824  -6.397186  3.670562 -0.863375   \n",
       "249167  154278.0  -1.600211 -3.488130  -6.459303  3.246816 -1.614608   \n",
       "249239  154309.0  -0.082983 -3.935919  -2.616709  0.163310 -1.400952   \n",
       "\n",
       "              V6         V7        V8        V9  ...       V21       V22  \\\n",
       "6971    3.628382   5.431271 -1.946734 -0.775680  ... -1.052368  0.204817   \n",
       "10690  -4.445610 -21.922811  0.320792 -4.433162  ... -1.159830 -1.504119   \n",
       "81609  -0.203363  -0.892144  0.333226 -0.802005  ...  1.226648 -0.695902   \n",
       "89190   3.874668   1.289630  0.201742 -3.003532  ...  0.276011  1.342045   \n",
       "95597   2.218276  -0.509995 -3.569444 -1.016592  ... -0.511657 -0.122724   \n",
       "176049 -0.098621   2.880083 -0.727484  1.460381  ...  1.244287 -1.015232   \n",
       "199896 -1.855855   1.017732 -0.544704 -1.703378  ...  1.396872  0.092073   \n",
       "249167 -1.260375   0.288223 -0.048964 -0.734975  ...  1.191175 -0.967141   \n",
       "249239 -0.809419   1.501580 -0.471000  1.519743  ...  0.702672 -0.182305   \n",
       "\n",
       "              V23       V24       V25       V26       V27       V28   Amount  \\\n",
       "6971    -2.119007  0.170279 -0.393844  0.296367  1.985913 -0.900452  1809.68   \n",
       "10690  -19.254328  0.544867 -4.781606 -0.007772  3.052358 -0.775036  1218.89   \n",
       "81609   -1.478490 -0.061553  0.236155  0.531911  0.302324  0.536375  1389.56   \n",
       "89190   -1.016579 -0.071361 -0.335869  0.441044  1.520613 -1.115937  1402.16   \n",
       "95597   -4.288639  0.563797 -0.949451 -0.204532  1.510206 -0.324706  1354.25   \n",
       "176049  -1.800985  0.657586 -0.435617 -0.894509 -0.397557  0.314262  2125.87   \n",
       "199896  -1.492882 -0.204227  0.532511 -0.293871  0.212663  0.431095  1335.00   \n",
       "249167  -1.463421 -0.624231 -0.176462  0.400348  0.152947  0.477775  1504.93   \n",
       "249239  -0.921017  0.111635 -0.071622 -1.125881 -0.170947  0.126221  1096.99   \n",
       "\n",
       "        Class  \n",
       "6971        1  \n",
       "10690       1  \n",
       "81609       1  \n",
       "89190       1  \n",
       "95597       1  \n",
       "176049      1  \n",
       "199896      1  \n",
       "249167      1  \n",
       "249239      1  \n",
       "\n",
       "[9 rows x 31 columns]"
      ]
     },
     "execution_count": 5,
     "metadata": {},
     "output_type": "execute_result"
    }
   ],
   "source": [
    "# remove large amount transactions, which could be outliers\n",
    "temp = df['Amount']>1000\n",
    "fraud = df[df['Class'] ==1]\n",
    "fraud[temp]"
   ]
  },
  {
   "cell_type": "code",
   "execution_count": 6,
   "metadata": {},
   "outputs": [
    {
     "data": {
      "text/html": [
       "<div>\n",
       "<style scoped>\n",
       "    .dataframe tbody tr th:only-of-type {\n",
       "        vertical-align: middle;\n",
       "    }\n",
       "\n",
       "    .dataframe tbody tr th {\n",
       "        vertical-align: top;\n",
       "    }\n",
       "\n",
       "    .dataframe thead th {\n",
       "        text-align: right;\n",
       "    }\n",
       "</style>\n",
       "<table border=\"1\" class=\"dataframe\">\n",
       "  <thead>\n",
       "    <tr style=\"text-align: right;\">\n",
       "      <th></th>\n",
       "      <th>Time</th>\n",
       "      <th>V1</th>\n",
       "      <th>V2</th>\n",
       "      <th>V3</th>\n",
       "      <th>V4</th>\n",
       "      <th>V5</th>\n",
       "      <th>V6</th>\n",
       "      <th>V7</th>\n",
       "      <th>V8</th>\n",
       "      <th>V9</th>\n",
       "      <th>...</th>\n",
       "      <th>V21</th>\n",
       "      <th>V22</th>\n",
       "      <th>V23</th>\n",
       "      <th>V24</th>\n",
       "      <th>V25</th>\n",
       "      <th>V26</th>\n",
       "      <th>V27</th>\n",
       "      <th>V28</th>\n",
       "      <th>Amount</th>\n",
       "      <th>Class</th>\n",
       "    </tr>\n",
       "  </thead>\n",
       "  <tbody>\n",
       "    <tr>\n",
       "      <th>0</th>\n",
       "      <td>0.0</td>\n",
       "      <td>-1.359807</td>\n",
       "      <td>-0.072781</td>\n",
       "      <td>2.536347</td>\n",
       "      <td>1.378155</td>\n",
       "      <td>-0.338321</td>\n",
       "      <td>0.462388</td>\n",
       "      <td>0.239599</td>\n",
       "      <td>0.098698</td>\n",
       "      <td>0.363787</td>\n",
       "      <td>...</td>\n",
       "      <td>-0.018307</td>\n",
       "      <td>0.277838</td>\n",
       "      <td>-0.110474</td>\n",
       "      <td>0.066928</td>\n",
       "      <td>0.128539</td>\n",
       "      <td>-0.189115</td>\n",
       "      <td>0.133558</td>\n",
       "      <td>-0.021053</td>\n",
       "      <td>149.62</td>\n",
       "      <td>0</td>\n",
       "    </tr>\n",
       "    <tr>\n",
       "      <th>1</th>\n",
       "      <td>0.0</td>\n",
       "      <td>1.191857</td>\n",
       "      <td>0.266151</td>\n",
       "      <td>0.166480</td>\n",
       "      <td>0.448154</td>\n",
       "      <td>0.060018</td>\n",
       "      <td>-0.082361</td>\n",
       "      <td>-0.078803</td>\n",
       "      <td>0.085102</td>\n",
       "      <td>-0.255425</td>\n",
       "      <td>...</td>\n",
       "      <td>-0.225775</td>\n",
       "      <td>-0.638672</td>\n",
       "      <td>0.101288</td>\n",
       "      <td>-0.339846</td>\n",
       "      <td>0.167170</td>\n",
       "      <td>0.125895</td>\n",
       "      <td>-0.008983</td>\n",
       "      <td>0.014724</td>\n",
       "      <td>2.69</td>\n",
       "      <td>0</td>\n",
       "    </tr>\n",
       "    <tr>\n",
       "      <th>2</th>\n",
       "      <td>1.0</td>\n",
       "      <td>-1.358354</td>\n",
       "      <td>-1.340163</td>\n",
       "      <td>1.773209</td>\n",
       "      <td>0.379780</td>\n",
       "      <td>-0.503198</td>\n",
       "      <td>1.800499</td>\n",
       "      <td>0.791461</td>\n",
       "      <td>0.247676</td>\n",
       "      <td>-1.514654</td>\n",
       "      <td>...</td>\n",
       "      <td>0.247998</td>\n",
       "      <td>0.771679</td>\n",
       "      <td>0.909412</td>\n",
       "      <td>-0.689281</td>\n",
       "      <td>-0.327642</td>\n",
       "      <td>-0.139097</td>\n",
       "      <td>-0.055353</td>\n",
       "      <td>-0.059752</td>\n",
       "      <td>378.66</td>\n",
       "      <td>0</td>\n",
       "    </tr>\n",
       "    <tr>\n",
       "      <th>3</th>\n",
       "      <td>1.0</td>\n",
       "      <td>-0.966272</td>\n",
       "      <td>-0.185226</td>\n",
       "      <td>1.792993</td>\n",
       "      <td>-0.863291</td>\n",
       "      <td>-0.010309</td>\n",
       "      <td>1.247203</td>\n",
       "      <td>0.237609</td>\n",
       "      <td>0.377436</td>\n",
       "      <td>-1.387024</td>\n",
       "      <td>...</td>\n",
       "      <td>-0.108300</td>\n",
       "      <td>0.005274</td>\n",
       "      <td>-0.190321</td>\n",
       "      <td>-1.175575</td>\n",
       "      <td>0.647376</td>\n",
       "      <td>-0.221929</td>\n",
       "      <td>0.062723</td>\n",
       "      <td>0.061458</td>\n",
       "      <td>123.50</td>\n",
       "      <td>0</td>\n",
       "    </tr>\n",
       "    <tr>\n",
       "      <th>4</th>\n",
       "      <td>2.0</td>\n",
       "      <td>-1.158233</td>\n",
       "      <td>0.877737</td>\n",
       "      <td>1.548718</td>\n",
       "      <td>0.403034</td>\n",
       "      <td>-0.407193</td>\n",
       "      <td>0.095921</td>\n",
       "      <td>0.592941</td>\n",
       "      <td>-0.270533</td>\n",
       "      <td>0.817739</td>\n",
       "      <td>...</td>\n",
       "      <td>-0.009431</td>\n",
       "      <td>0.798278</td>\n",
       "      <td>-0.137458</td>\n",
       "      <td>0.141267</td>\n",
       "      <td>-0.206010</td>\n",
       "      <td>0.502292</td>\n",
       "      <td>0.219422</td>\n",
       "      <td>0.215153</td>\n",
       "      <td>69.99</td>\n",
       "      <td>0</td>\n",
       "    </tr>\n",
       "  </tbody>\n",
       "</table>\n",
       "<p>5 rows × 31 columns</p>\n",
       "</div>"
      ],
      "text/plain": [
       "   Time        V1        V2        V3        V4        V5        V6        V7  \\\n",
       "0   0.0 -1.359807 -0.072781  2.536347  1.378155 -0.338321  0.462388  0.239599   \n",
       "1   0.0  1.191857  0.266151  0.166480  0.448154  0.060018 -0.082361 -0.078803   \n",
       "2   1.0 -1.358354 -1.340163  1.773209  0.379780 -0.503198  1.800499  0.791461   \n",
       "3   1.0 -0.966272 -0.185226  1.792993 -0.863291 -0.010309  1.247203  0.237609   \n",
       "4   2.0 -1.158233  0.877737  1.548718  0.403034 -0.407193  0.095921  0.592941   \n",
       "\n",
       "         V8        V9  ...       V21       V22       V23       V24       V25  \\\n",
       "0  0.098698  0.363787  ... -0.018307  0.277838 -0.110474  0.066928  0.128539   \n",
       "1  0.085102 -0.255425  ... -0.225775 -0.638672  0.101288 -0.339846  0.167170   \n",
       "2  0.247676 -1.514654  ...  0.247998  0.771679  0.909412 -0.689281 -0.327642   \n",
       "3  0.377436 -1.387024  ... -0.108300  0.005274 -0.190321 -1.175575  0.647376   \n",
       "4 -0.270533  0.817739  ... -0.009431  0.798278 -0.137458  0.141267 -0.206010   \n",
       "\n",
       "        V26       V27       V28  Amount  Class  \n",
       "0 -0.189115  0.133558 -0.021053  149.62      0  \n",
       "1  0.125895 -0.008983  0.014724    2.69      0  \n",
       "2 -0.139097 -0.055353 -0.059752  378.66      0  \n",
       "3 -0.221929  0.062723  0.061458  123.50      0  \n",
       "4  0.502292  0.219422  0.215153   69.99      0  \n",
       "\n",
       "[5 rows x 31 columns]"
      ]
     },
     "execution_count": 6,
     "metadata": {},
     "output_type": "execute_result"
    }
   ],
   "source": [
    "df.head()"
   ]
  },
  {
   "cell_type": "code",
   "execution_count": 7,
   "metadata": {},
   "outputs": [],
   "source": [
    "# Normalize data, scale to [0,1]\n",
    "#train_data = StandardScaler().fit_transform(X_train)\n",
    "#test_data = StandardScaler().fit_transform(X_test)\n",
    "train_data = MinMaxScaler().fit_transform(X_train)\n",
    "test_data = MinMaxScaler().fit_transform(X_test)\n",
    "train_labels = y_train\n",
    "test_labels = y_test"
   ]
  },
  {
   "cell_type": "code",
   "execution_count": 8,
   "metadata": {},
   "outputs": [
    {
     "data": {
      "text/plain": [
       "array([0.97703082, 0.76537898, 0.94551042, 0.31116781, 0.75789933,\n",
       "       0.26270575, 0.26064373, 0.79235622, 0.59804751, 0.61633761,\n",
       "       0.33386554, 0.71868941, 0.31737106, 0.65168132, 0.30930115,\n",
       "       0.45856449, 0.7224205 , 0.69197102, 0.56438072, 0.57769705,\n",
       "       0.56118224, 0.51224776, 0.6659031 , 0.44986968, 0.59502982,\n",
       "       0.34715266, 0.23891812, 0.31365183])"
      ]
     },
     "execution_count": 8,
     "metadata": {},
     "output_type": "execute_result"
    }
   ],
   "source": [
    "train_data[6972]"
   ]
  },
  {
   "cell_type": "code",
   "execution_count": 9,
   "metadata": {},
   "outputs": [],
   "source": [
    "train_labels = train_labels.astype(bool)\n",
    "test_labels = test_labels.astype(bool)\n",
    "\n",
    "normal_train_data = train_data[train_labels]\n",
    "normal_test_data = test_data[test_labels]\n",
    "\n",
    "anomalous_train_data = train_data[~train_labels]\n",
    "anomalous_test_data = test_data[~test_labels]"
   ]
  },
  {
   "cell_type": "code",
   "execution_count": 10,
   "metadata": {},
   "outputs": [
    {
     "name": "stderr",
     "output_type": "stream",
     "text": [
      "2022-10-07 22:10:00.106137: I tensorflow/core/platform/cpu_feature_guard.cc:193] This TensorFlow binary is optimized with oneAPI Deep Neural Network Library (oneDNN) to use the following CPU instructions in performance-critical operations:  AVX2 FMA\n",
      "To enable them in other operations, rebuild TensorFlow with the appropriate compiler flags.\n"
     ]
    }
   ],
   "source": [
    "# Auto encoder with keras dense layers\n",
    "class AnomalyDetector(Model):\n",
    "  def __init__(self):\n",
    "    super(AnomalyDetector, self).__init__()\n",
    "    self.encoder = tf.keras.Sequential([\n",
    "      layers.Dense(64, activation=\"relu\"),\n",
    "     \n",
    "      layers.Dropout(0.2),\n",
    "      layers.Dense(16, activation=\"relu\"),\n",
    "      layers.Dense(8, activation=\"relu\")])\n",
    "    \n",
    "    self.decoder = tf.keras.Sequential([\n",
    "      layers.Dense(16, activation=\"relu\"),\n",
    "      \n",
    "      layers.Dropout(0.2),\n",
    "      layers.Dense(64, activation=\"relu\"),\n",
    "      layers.Dense(28, activation=\"sigmoid\")])\n",
    "    \n",
    "  def call(self, x):\n",
    "    encoded = self.encoder(x)\n",
    "    decoded = self.decoder(encoded)\n",
    "    return decoded\n",
    "\n",
    "autoencoder = AnomalyDetector()"
   ]
  },
  {
   "cell_type": "code",
   "execution_count": 11,
   "metadata": {},
   "outputs": [],
   "source": [
    "# second method to keras sequential model build\n",
    "encoder = tf.keras.models.Sequential([tf.keras.layers.Reshape(([28,1,1]),input_shape=[28]),\n",
    "    layers.Conv2D(32,kernel_size=(3,3), padding='same', activation='tanh'),\n",
    "    layers.Dropout(0.1),\n",
    "      layers.Dense(32, activation=\"tanh\"),\n",
    "    \n",
    "      layers.Dense(16, activation=\"tanh\"),\n",
    "      layers.Dense(8, activation=\"tanh\")])\n",
    "\n",
    "decoder = tf.keras.models.Sequential([\n",
    "      layers.Dense(16, activation=\"tanh\"),\n",
    "      \n",
    "      layers.Dense(32, activation=\"tanh\"),\n",
    "      layers.Dropout(0.1),\n",
    "      layers.Conv2DTranspose(32,kernel_size=(3,3), padding='same', activation='tanh'),\n",
    "      layers.Dense(1, activation=\"sigmoid\"),\n",
    "      tf.keras.layers.Reshape([1,28])])\n",
    "\n",
    "autoencoder2 = tf.keras.models.Sequential([encoder,decoder])"
   ]
  },
  {
   "cell_type": "code",
   "execution_count": 12,
   "metadata": {},
   "outputs": [],
   "source": [
    "opt = tf.keras.optimizers.Adam(learning_rate=0.005)\n",
    "autoencoder.compile(loss='binary_crossentropy', optimizer=opt)\n",
    "autoencoder2.compile(loss='binary_crossentropy', optimizer=opt)"
   ]
  },
  {
   "cell_type": "code",
   "execution_count": 13,
   "metadata": {},
   "outputs": [
    {
     "name": "stdout",
     "output_type": "stream",
     "text": [
      "Epoch 1/30\n",
      "7/7 [==============================] - 1s 74ms/step - loss: 0.6671 - val_loss: 0.7020\n",
      "Epoch 2/30\n",
      "7/7 [==============================] - 0s 31ms/step - loss: 0.6325 - val_loss: 0.7005\n",
      "Epoch 3/30\n",
      "7/7 [==============================] - 0s 32ms/step - loss: 0.6309 - val_loss: 0.6943\n",
      "Epoch 4/30\n",
      "7/7 [==============================] - 0s 20ms/step - loss: 0.6284 - val_loss: 0.6946\n",
      "Epoch 5/30\n",
      "7/7 [==============================] - 0s 17ms/step - loss: 0.6276 - val_loss: 0.6990\n",
      "Epoch 6/30\n",
      "7/7 [==============================] - 0s 19ms/step - loss: 0.6273 - val_loss: 0.6973\n",
      "Epoch 7/30\n",
      "7/7 [==============================] - 0s 19ms/step - loss: 0.6269 - val_loss: 0.6966\n",
      "Epoch 8/30\n",
      "7/7 [==============================] - 0s 18ms/step - loss: 0.6262 - val_loss: 0.6961\n",
      "Epoch 9/30\n",
      "7/7 [==============================] - 0s 20ms/step - loss: 0.6247 - val_loss: 0.6910\n",
      "Epoch 10/30\n",
      "7/7 [==============================] - 0s 24ms/step - loss: 0.6206 - val_loss: 0.6849\n",
      "Epoch 11/30\n",
      "7/7 [==============================] - 0s 20ms/step - loss: 0.6181 - val_loss: 0.6832\n",
      "Epoch 12/30\n",
      "7/7 [==============================] - 0s 24ms/step - loss: 0.6167 - val_loss: 0.6800\n",
      "Epoch 13/30\n",
      "7/7 [==============================] - 0s 21ms/step - loss: 0.6153 - val_loss: 0.6819\n",
      "Epoch 14/30\n",
      "7/7 [==============================] - 0s 22ms/step - loss: 0.6144 - val_loss: 0.6814\n",
      "Epoch 15/30\n",
      "7/7 [==============================] - 0s 19ms/step - loss: 0.6136 - val_loss: 0.6807\n",
      "Epoch 16/30\n",
      "7/7 [==============================] - 0s 21ms/step - loss: 0.6135 - val_loss: 0.6829\n",
      "Epoch 17/30\n",
      "7/7 [==============================] - 0s 20ms/step - loss: 0.6136 - val_loss: 0.6813\n",
      "Epoch 18/30\n",
      "7/7 [==============================] - 0s 28ms/step - loss: 0.6126 - val_loss: 0.6815\n",
      "Epoch 19/30\n",
      "7/7 [==============================] - 0s 20ms/step - loss: 0.6131 - val_loss: 0.6819\n",
      "Epoch 20/30\n",
      "7/7 [==============================] - 0s 19ms/step - loss: 0.6124 - val_loss: 0.6829\n",
      "Epoch 21/30\n",
      "7/7 [==============================] - 0s 21ms/step - loss: 0.6128 - val_loss: 0.6823\n",
      "Epoch 22/30\n",
      "7/7 [==============================] - 0s 20ms/step - loss: 0.6123 - val_loss: 0.6810\n",
      "Epoch 23/30\n",
      "7/7 [==============================] - 0s 22ms/step - loss: 0.6123 - val_loss: 0.6823\n",
      "Epoch 24/30\n",
      "7/7 [==============================] - 0s 19ms/step - loss: 0.6121 - val_loss: 0.6821\n",
      "Epoch 25/30\n",
      "7/7 [==============================] - 0s 24ms/step - loss: 0.6122 - val_loss: 0.6821\n",
      "Epoch 26/30\n",
      "7/7 [==============================] - 0s 21ms/step - loss: 0.6122 - val_loss: 0.6823\n",
      "Epoch 27/30\n",
      "7/7 [==============================] - 0s 18ms/step - loss: 0.6122 - val_loss: 0.6814\n",
      "Epoch 28/30\n",
      "7/7 [==============================] - 0s 26ms/step - loss: 0.6121 - val_loss: 0.6813\n",
      "Epoch 29/30\n",
      "7/7 [==============================] - 0s 20ms/step - loss: 0.6120 - val_loss: 0.6820\n",
      "Epoch 30/30\n",
      "7/7 [==============================] - 0s 20ms/step - loss: 0.6121 - val_loss: 0.6821\n"
     ]
    }
   ],
   "source": [
    "# train the data\n",
    "from gc import callbacks\n",
    "\n",
    "\n",
    "log_dir = \"logs/fit1/\" + datetime.datetime.now().strftime(\"%Y%m%d-%H%M%S\")\n",
    "tensorboard_callback = tf.keras.callbacks.TensorBoard(log_dir=log_dir, histogram_freq=1)\n",
    "history = autoencoder.fit(normal_train_data, normal_train_data, \n",
    "          epochs=30, \n",
    "          batch_size=52,\n",
    "          validation_data=(normal_test_data, normal_test_data),\n",
    "          shuffle=True, callbacks=[tensorboard_callback])"
   ]
  },
  {
   "cell_type": "code",
   "execution_count": 14,
   "metadata": {},
   "outputs": [
    {
     "name": "stdout",
     "output_type": "stream",
     "text": [
      "Dense layer training result\n"
     ]
    },
    {
     "data": {
      "image/png": "[encoded data removed]",
      "text/plain": [
       "<Figure size 640x480 with 1 Axes>"
      ]
     },
     "metadata": {},
     "output_type": "display_data"
    }
   ],
   "source": [
    "print('Dense layer training result')\n",
    "plt.plot(history.history[\"loss\"], label=\"Training Loss\")\n",
    "plt.plot(history.history[\"val_loss\"], label=\"Validation Loss\")\n",
    "plt.legend()\n",
    "plt.show()"
   ]
  },
  {
   "cell_type": "code",
   "execution_count": 15,
   "metadata": {},
   "outputs": [
    {
     "name": "stdout",
     "output_type": "stream",
     "text": [
      "Epoch 1/20\n",
      "7/7 [==============================] - 2s 86ms/step - loss: 0.7562 - val_loss: 0.7029\n",
      "Epoch 2/20\n",
      "7/7 [==============================] - 0s 37ms/step - loss: 0.6798 - val_loss: 0.6782\n",
      "Epoch 3/20\n",
      "7/7 [==============================] - 0s 29ms/step - loss: 0.6652 - val_loss: 0.6792\n",
      "Epoch 4/20\n",
      "7/7 [==============================] - 0s 29ms/step - loss: 0.6611 - val_loss: 0.6763\n",
      "Epoch 5/20\n",
      "7/7 [==============================] - 0s 28ms/step - loss: 0.6580 - val_loss: 0.6777\n",
      "Epoch 6/20\n",
      "7/7 [==============================] - 0s 29ms/step - loss: 0.6553 - val_loss: 0.6799\n",
      "Epoch 7/20\n",
      "7/7 [==============================] - 0s 27ms/step - loss: 0.6541 - val_loss: 0.6781\n",
      "Epoch 8/20\n",
      "7/7 [==============================] - 0s 29ms/step - loss: 0.6518 - val_loss: 0.6765\n",
      "Epoch 9/20\n",
      "7/7 [==============================] - 0s 27ms/step - loss: 0.6487 - val_loss: 0.6794\n",
      "Epoch 10/20\n",
      "7/7 [==============================] - 0s 30ms/step - loss: 0.6466 - val_loss: 0.6798\n",
      "Epoch 11/20\n",
      "7/7 [==============================] - 0s 34ms/step - loss: 0.6444 - val_loss: 0.6777\n",
      "Epoch 12/20\n",
      "7/7 [==============================] - 0s 39ms/step - loss: 0.6431 - val_loss: 0.6768\n",
      "Epoch 13/20\n",
      "7/7 [==============================] - 0s 29ms/step - loss: 0.6422 - val_loss: 0.6779\n",
      "Epoch 14/20\n",
      "7/7 [==============================] - 0s 26ms/step - loss: 0.6420 - val_loss: 0.6769\n",
      "Epoch 15/20\n",
      "7/7 [==============================] - 0s 26ms/step - loss: 0.6408 - val_loss: 0.6763\n",
      "Epoch 16/20\n",
      "7/7 [==============================] - 0s 30ms/step - loss: 0.6403 - val_loss: 0.6756\n",
      "Epoch 17/20\n",
      "7/7 [==============================] - 0s 26ms/step - loss: 0.6403 - val_loss: 0.6769\n",
      "Epoch 18/20\n",
      "7/7 [==============================] - 0s 28ms/step - loss: 0.6400 - val_loss: 0.6768\n",
      "Epoch 19/20\n",
      "7/7 [==============================] - 0s 33ms/step - loss: 0.6393 - val_loss: 0.6768\n",
      "Epoch 20/20\n",
      "7/7 [==============================] - 0s 26ms/step - loss: 0.6392 - val_loss: 0.6766\n"
     ]
    }
   ],
   "source": [
    "log_dir2 = \"logs/fit2/\" + datetime.datetime.now().strftime(\"%Y%m%d-%H%M%S\")\n",
    "tensorboard_callback2 = tf.keras.callbacks.TensorBoard(log_dir=log_dir2, histogram_freq=1)\n",
    "history2 = autoencoder2.fit(normal_train_data, normal_train_data, \n",
    "          epochs=20, \n",
    "          batch_size=52,\n",
    "          validation_data=(normal_test_data, normal_test_data),\n",
    "          shuffle=True, callbacks=[tensorboard_callback2])"
   ]
  },
  {
   "cell_type": "code",
   "execution_count": 16,
   "metadata": {},
   "outputs": [
    {
     "name": "stdout",
     "output_type": "stream",
     "text": [
      "Conv2D layer training result\n"
     ]
    },
    {
     "data": {
      "image/png": "[encoded data removed]",
      "text/plain": [
       "<Figure size 640x480 with 1 Axes>"
      ]
     },
     "metadata": {},
     "output_type": "display_data"
    }
   ],
   "source": [
    "\n",
    "\n",
    "print('Conv2D layer training result')\n",
    "plt.plot(history2.history[\"loss\"], label=\"Training Loss\")\n",
    "plt.plot(history2.history[\"val_loss\"], label=\"Validation Loss\")\n",
    "plt.legend()\n",
    "plt.show()"
   ]
  },
  {
   "cell_type": "code",
   "execution_count": 17,
   "metadata": {},
   "outputs": [
    {
     "name": "stdout",
     "output_type": "stream",
     "text": [
      "11/11 [==============================] - 0s 1ms/step\n"
     ]
    },
    {
     "data": {
      "image/png": "[encoded data removed]",
      "text/plain": [
       "<Figure size 640x480 with 1 Axes>"
      ]
     },
     "metadata": {},
     "output_type": "display_data"
    }
   ],
   "source": [
    "# plot the reconstuct error vs normal \n",
    "reconstructions = autoencoder.predict(normal_train_data)\n",
    "train_loss = tf.keras.losses.binary_crossentropy(reconstructions, normal_train_data)\n",
    "\n",
    "\n",
    "plt.hist(train_loss[None,:], bins=50)\n",
    "plt.xlabel(\"Train loss\")\n",
    "plt.ylabel(\"No of examples\")\n",
    "plt.show()"
   ]
  },
  {
   "cell_type": "code",
   "execution_count": 18,
   "metadata": {},
   "outputs": [
    {
     "name": "stdout",
     "output_type": "stream",
     "text": [
      "Threshold:  0.6765642180385173\n"
     ]
    }
   ],
   "source": [
    "threshold = np.mean(train_loss) + np.std(train_loss)\n",
    "print(\"Threshold: \", threshold)\n",
    "\n"
   ]
  },
  {
   "cell_type": "code",
   "execution_count": 19,
   "metadata": {},
   "outputs": [
    {
     "name": "stdout",
     "output_type": "stream",
     "text": [
      "6231/6231 [==============================] - 12s 2ms/step\n"
     ]
    }
   ],
   "source": [
    "reconstructions2 = autoencoder2.predict(train_data)\n",
    "#train_loss2 = tf.keras.losses.binary_crossentropy(reconstructions2, normal_train_data)\n",
    "#threshold2 = np.mean(train_loss2) + np.std(train_loss2)\n",
    "#print(\"Threshold: \", threshold2)"
   ]
  },
  {
   "cell_type": "code",
   "execution_count": 20,
   "metadata": {},
   "outputs": [],
   "source": [
    "def predict(model, data, threshold):\n",
    "  reconstructions = model(data)\n",
    "  loss = tf.keras.losses.binary_crossentropy(reconstructions, data)\n",
    "  return tf.math.less(loss, threshold)\n",
    "\n",
    "def print_stats(predictions, labels):\n",
    "  print(\"Accuracy = {}\".format(accuracy_score(labels, predictions)))\n",
    "  print(\"Precision = {}\".format(precision_score(labels, predictions)))\n",
    "  print(\"Recall = {}\".format(recall_score(labels, predictions)))"
   ]
  },
  {
   "cell_type": "code",
   "execution_count": 21,
   "metadata": {},
   "outputs": [
    {
     "name": "stdout",
     "output_type": "stream",
     "text": [
      "Accuracy = 0.031658532588977446\n",
      "Precision = 0.001521004345726702\n",
      "Recall = 0.84\n"
     ]
    }
   ],
   "source": [
    "preds = predict(autoencoder, test_data, threshold)\n",
    "print_stats(preds, test_labels)\n",
    "\n"
   ]
  },
  {
   "cell_type": "code",
   "execution_count": 22,
   "metadata": {},
   "outputs": [
    {
     "name": "stdout",
     "output_type": "stream",
     "text": [
      "Dense layer only confusion matrix\n"
     ]
    },
    {
     "data": {
      "text/plain": [
       "<tf.Tensor: shape=(2, 2), dtype=int32, numpy=\n",
       "array([[ 2579, 82714],\n",
       "       [   24,   126]], dtype=int32)>"
      ]
     },
     "execution_count": 22,
     "metadata": {},
     "output_type": "execute_result"
    }
   ],
   "source": [
    "print(\"Dense layer only confusion matrix\")\n",
    "tf.math.confusion_matrix(\n",
    "    test_labels,\n",
    "    preds,\n",
    "    num_classes=None,\n",
    "    weights=None,\n",
    "    dtype=tf.dtypes.int32,\n",
    "    name=None\n",
    ")"
   ]
  },
  {
   "cell_type": "code",
   "execution_count": 23,
   "metadata": {},
   "outputs": [
    {
     "ename": "",
     "evalue": "",
     "output_type": "error",
     "traceback": [
      "\u001b[1;31mCanceled future for execute_request message before replies were done"
     ]
    },
    {
     "ename": "",
     "evalue": "",
     "output_type": "error",
     "traceback": [
      "\u001b[1;31mThe Kernel crashed while executing code in the the current cell or a previous cell. Please review the code in the cell(s) to identify a possible cause of the failure. Click <a href='https://aka.ms/vscodeJupyterKernelCrash'>here</a> for more info. View Jupyter <a href='command:jupyter.viewOutput'>log</a> for further details."
     ]
    }
   ],
   "source": [
    "preds2 = predict(autoencoder2, test_data, threshold)\n",
    "print_stats(preds2, test_labels)"
   ]
  },
  {
   "cell_type": "code",
   "execution_count": null,
   "metadata": {},
   "outputs": [],
   "source": [
    "print(\"Conv2D layer only confusion matrix\")\n",
    "tf.math.confusion_matrix(\n",
    "    test_labels,\n",
    "    preds2,\n",
    "    num_classes=None,\n",
    "    weights=None,\n",
    "    dtype=tf.dtypes.int32,\n",
    "    name=None\n",
    ")"
   ]
  },
  {
   "cell_type": "markdown",
   "metadata": {},
   "source": [
    "# summary\n",
    "* Auto encoder doesn't give a better performance regarding recall and precision.\n",
    "* Conv2D used too much resources to do the calculation."
   ]
  },
  {
   "cell_type": "code",
   "execution_count": null,
   "metadata": {},
   "outputs": [],
   "source": [
    "# summary"
   ]
  },
  {
   "cell_type": "code",
   "execution_count": null,
   "metadata": {},
   "outputs": [],
   "source": [
    "%load_ext tensorboard"
   ]
  }
 ],
 "metadata": {
  "kernelspec": {
   "display_name": "Python 3.9.13 ('anomaly')",
   "language": "python",
   "name": "python3"
  },
  "language_info": {
   "codemirror_mode": {
    "name": "ipython",
    "version": 3
   },
   "file_extension": ".py",
   "mimetype": "text/x-python",
   "name": "python",
   "nbconvert_exporter": "python",
   "pygments_lexer": "ipython3",
   "version": "3.9.13"
  },
  "orig_nbformat": 4,
  "vscode": {
   "interpreter": {
    "hash": "398cd56811f9a82a260dab094c64fd50f393d31ec7b55cfe6152d79bfbea3cbd"
   }
  }
 },
 "nbformat": 4,
 "nbformat_minor": 2
}
